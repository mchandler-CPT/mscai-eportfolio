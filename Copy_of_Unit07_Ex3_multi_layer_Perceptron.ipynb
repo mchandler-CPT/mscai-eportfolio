{
  "cells": [
    {
      "cell_type": "markdown",
      "metadata": {
        "id": "view-in-github",
        "colab_type": "text"
      },
      "source": [
        "<a href=\"https://colab.research.google.com/github/mchandler-CPT/mscai-eportfolio/blob/main/Copy_of_Unit07_Ex3_multi_layer_Perceptron.ipynb\" target=\"_parent\"><img src=\"https://colab.research.google.com/assets/colab-badge.svg\" alt=\"Open In Colab\"/></a>"
      ]
    },
    {
      "cell_type": "markdown",
      "metadata": {
        "id": "fDrCI7eZ__yA"
      },
      "source": [
        "### Author: Dr Mike Lakoju"
      ]
    },
    {
      "cell_type": "markdown",
      "metadata": {
        "id": "zie0fZmW__yC"
      },
      "source": [
        "    * If X is high, the value is approximately 1\n",
        "    * if X is small, the value is approximately 0"
      ]
    },
    {
      "cell_type": "markdown",
      "metadata": {
        "id": "1Z4WYSmi__yC"
      },
      "source": [
        "## Import Libraries"
      ]
    },
    {
      "cell_type": "code",
      "execution_count": null,
      "metadata": {
        "id": "pznyKOSJ__yD"
      },
      "outputs": [],
      "source": [
        "import numpy as np"
      ]
    },
    {
      "cell_type": "markdown",
      "metadata": {
        "id": "juZtZvyi__yD"
      },
      "source": [
        "## Define the Sigmoid Function"
      ]
    },
    {
      "cell_type": "code",
      "execution_count": null,
      "metadata": {
        "id": "LAzXLB1G__yD"
      },
      "outputs": [],
      "source": [
        "def sigmoid(sum_func):\n",
        "  return 1 / (1 + np.exp(-sum_func))"
      ]
    },
    {
      "cell_type": "code",
      "execution_count": null,
      "metadata": {
        "colab": {
          "base_uri": "https://localhost:8080/"
        },
        "id": "jLT4iRDY__yD",
        "outputId": "64bc0638-0d6c-47a2-9c26-05e404aaea76"
      },
      "outputs": [
        {
          "output_type": "execute_result",
          "data": {
            "text/plain": [
              "np.float64(0.5)"
            ]
          },
          "metadata": {},
          "execution_count": 146
        }
      ],
      "source": [
        "sigmoid(0)"
      ]
    },
    {
      "cell_type": "code",
      "execution_count": null,
      "metadata": {
        "colab": {
          "base_uri": "https://localhost:8080/"
        },
        "id": "2uQC2St7__yE",
        "outputId": "cc7f6a11-60c8-498a-ae7f-b556c2c0a705"
      },
      "outputs": [
        {
          "output_type": "execute_result",
          "data": {
            "text/plain": [
              "np.float64(7.38905609893065)"
            ]
          },
          "metadata": {},
          "execution_count": 147
        }
      ],
      "source": [
        "np.exp(2)"
      ]
    },
    {
      "cell_type": "code",
      "execution_count": null,
      "metadata": {
        "colab": {
          "base_uri": "https://localhost:8080/"
        },
        "id": "TtXH9cv0__yE",
        "outputId": "f219fd19-543c-45cd-b6bc-664b361a8e2f"
      },
      "outputs": [
        {
          "output_type": "execute_result",
          "data": {
            "text/plain": [
              "np.float64(2.718281828459045)"
            ]
          },
          "metadata": {},
          "execution_count": 148
        }
      ],
      "source": [
        "np.exp(1)"
      ]
    },
    {
      "cell_type": "code",
      "execution_count": null,
      "metadata": {
        "colab": {
          "base_uri": "https://localhost:8080/"
        },
        "id": "jIqyHvVg__yE",
        "outputId": "a51a86b6-7a1b-4dab-89f2-df8b4982406b"
      },
      "outputs": [
        {
          "output_type": "execute_result",
          "data": {
            "text/plain": [
              "np.float64(1.0)"
            ]
          },
          "metadata": {},
          "execution_count": 149
        }
      ],
      "source": [
        "sigmoid(40)"
      ]
    },
    {
      "cell_type": "code",
      "execution_count": null,
      "metadata": {
        "colab": {
          "base_uri": "https://localhost:8080/"
        },
        "id": "m1WG6Zi-__yE",
        "outputId": "9b2bb607-d297-4687-e534-f768ba467650"
      },
      "outputs": [
        {
          "output_type": "execute_result",
          "data": {
            "text/plain": [
              "np.float64(1.2501528648238605e-09)"
            ]
          },
          "metadata": {},
          "execution_count": 150
        }
      ],
      "source": [
        "sigmoid(-20.5)"
      ]
    },
    {
      "cell_type": "markdown",
      "metadata": {
        "id": "f1QOoo8E__yF"
      },
      "source": [
        "# Input Layer to Hidden Layer"
      ]
    },
    {
      "cell_type": "markdown",
      "metadata": {
        "id": "VK_5DES9__yF"
      },
      "source": [
        "### Define \"Inputs, outputs and weights\" as Numpy arrays"
      ]
    },
    {
      "cell_type": "markdown",
      "metadata": {
        "id": "1XL9lPkh__yF"
      },
      "source": [
        "#### Inputs"
      ]
    },
    {
      "cell_type": "code",
      "execution_count": null,
      "metadata": {
        "id": "XQglWTkR__yF"
      },
      "outputs": [],
      "source": [
        "inputs = np.array([[0,0],\n",
        "                   [0,1],\n",
        "                   [1,0],\n",
        "                   [1,1]])"
      ]
    },
    {
      "cell_type": "code",
      "execution_count": null,
      "metadata": {
        "colab": {
          "base_uri": "https://localhost:8080/"
        },
        "id": "uxRt2s8___yF",
        "outputId": "68c37958-9ffb-4da7-ce36-adc64a7c2041"
      },
      "outputs": [
        {
          "output_type": "execute_result",
          "data": {
            "text/plain": [
              "array([[0, 0],\n",
              "       [0, 1],\n",
              "       [1, 0],\n",
              "       [1, 1]])"
            ]
          },
          "metadata": {},
          "execution_count": 152
        }
      ],
      "source": [
        "inputs"
      ]
    },
    {
      "cell_type": "code",
      "execution_count": null,
      "metadata": {
        "colab": {
          "base_uri": "https://localhost:8080/"
        },
        "id": "elfgjvCC__yF",
        "outputId": "d9bc3044-8585-49e1-82ee-764d5491fab1"
      },
      "outputs": [
        {
          "output_type": "execute_result",
          "data": {
            "text/plain": [
              "(4, 2)"
            ]
          },
          "metadata": {},
          "execution_count": 153
        }
      ],
      "source": [
        "inputs.shape"
      ]
    },
    {
      "cell_type": "markdown",
      "metadata": {
        "id": "VezBqwWL__yF"
      },
      "source": [
        "#### Outputs"
      ]
    },
    {
      "cell_type": "code",
      "execution_count": null,
      "metadata": {
        "id": "h2SJASD7__yF"
      },
      "outputs": [],
      "source": [
        "outputs = np.array([[0],\n",
        "                    [1],\n",
        "                    [1],\n",
        "                    [0]])"
      ]
    },
    {
      "cell_type": "code",
      "execution_count": null,
      "metadata": {
        "colab": {
          "base_uri": "https://localhost:8080/"
        },
        "id": "XPrewBjq__yG",
        "outputId": "e782781b-b904-4fc2-ab81-8e229d032bae"
      },
      "outputs": [
        {
          "output_type": "execute_result",
          "data": {
            "text/plain": [
              "(4, 1)"
            ]
          },
          "metadata": {},
          "execution_count": 155
        }
      ],
      "source": [
        "outputs.shape"
      ]
    },
    {
      "cell_type": "markdown",
      "metadata": {
        "id": "skWPsCJT__yG"
      },
      "source": [
        "### Weights"
      ]
    },
    {
      "cell_type": "markdown",
      "metadata": {
        "id": "kQd9XfEM__yG"
      },
      "source": [
        "#### These weights are for the connection between the inputs and the hidden layer"
      ]
    },
    {
      "cell_type": "code",
      "execution_count": null,
      "metadata": {
        "colab": {
          "base_uri": "https://localhost:8080/"
        },
        "id": "7PC571xz__yG",
        "outputId": "98061068-2d69-4205-c766-934f5a1252fa"
      },
      "outputs": [
        {
          "output_type": "execute_result",
          "data": {
            "text/plain": [
              "(2, 3)"
            ]
          },
          "metadata": {},
          "execution_count": 156
        }
      ],
      "source": [
        "# First row holds the weights for x1, 2nd row contains the weights for x2\n",
        "\n",
        "weights_0 = np.array([[-0.424, -0.740, -0.961],\n",
        "                     [0.358, -0.577, -0.469]])\n",
        "weights_0.shape"
      ]
    },
    {
      "cell_type": "markdown",
      "metadata": {
        "id": "gz3ZTTuX__yG"
      },
      "source": [
        "#### These weights are for the connection between the  hidden layer and the output"
      ]
    },
    {
      "cell_type": "code",
      "execution_count": null,
      "metadata": {
        "colab": {
          "base_uri": "https://localhost:8080/"
        },
        "id": "Hl_3Wbj___yG",
        "outputId": "d226d623-e2bf-4dfe-b929-85aa49b8347c"
      },
      "outputs": [
        {
          "output_type": "execute_result",
          "data": {
            "text/plain": [
              "(3, 1)"
            ]
          },
          "metadata": {},
          "execution_count": 157
        }
      ],
      "source": [
        "weights_1 = np.array([[-0.017],\n",
        "                     [-0.893],\n",
        "                     [0.148]])\n",
        "weights_1.shape"
      ]
    },
    {
      "cell_type": "markdown",
      "metadata": {
        "id": "4MGtJNkE__yG"
      },
      "source": [
        "#### Epochs & Learning Rate"
      ]
    },
    {
      "cell_type": "code",
      "execution_count": null,
      "metadata": {
        "id": "6qqAo6Zb__yG"
      },
      "outputs": [],
      "source": [
        "epochs = 100\n",
        "learning_rate = 0.3"
      ]
    },
    {
      "cell_type": "code",
      "execution_count": null,
      "metadata": {
        "id": "b1Cz3OPY__yG"
      },
      "outputs": [],
      "source": [
        "#for epoch in epochs:"
      ]
    },
    {
      "cell_type": "code",
      "execution_count": null,
      "metadata": {
        "colab": {
          "base_uri": "https://localhost:8080/"
        },
        "id": "ULlAT3Jt__yG",
        "outputId": "4dd6c1e6-49ef-4a8c-c506-8c1d2a111f3b"
      },
      "outputs": [
        {
          "output_type": "execute_result",
          "data": {
            "text/plain": [
              "array([[0, 0],\n",
              "       [0, 1],\n",
              "       [1, 0],\n",
              "       [1, 1]])"
            ]
          },
          "metadata": {},
          "execution_count": 160
        }
      ],
      "source": [
        "input_layer = inputs\n",
        "input_layer"
      ]
    },
    {
      "cell_type": "code",
      "execution_count": null,
      "metadata": {
        "colab": {
          "base_uri": "https://localhost:8080/"
        },
        "id": "nx1sxbJt__yH",
        "outputId": "257889a3-151c-4880-bd0c-71d4d0af10ce"
      },
      "outputs": [
        {
          "output_type": "execute_result",
          "data": {
            "text/plain": [
              "array([[ 0.   ,  0.   ,  0.   ],\n",
              "       [ 0.358, -0.577, -0.469],\n",
              "       [-0.424, -0.74 , -0.961],\n",
              "       [-0.066, -1.317, -1.43 ]])"
            ]
          },
          "metadata": {},
          "execution_count": 161
        }
      ],
      "source": [
        "# \"sum_synapse_0\" This holds the sum function total of weights for the hidden layer\n",
        "# For the Output: Each row holds the sum_func for each input data  [0,0,0 -> data 0,0],[0.358, -0.577, -0.469 --> 0,1]\n",
        "# The dot product does the matrix multiplication and also the sum\n",
        "\n",
        "sum_synapse_0 = np.dot(input_layer, weights_0)\n",
        "sum_synapse_0"
      ]
    },
    {
      "cell_type": "code",
      "execution_count": null,
      "metadata": {
        "colab": {
          "base_uri": "https://localhost:8080/"
        },
        "id": "gz1w6WQA__yH",
        "outputId": "5d94a3d8-2fb9-4b5a-e46a-308c65293c04"
      },
      "outputs": [
        {
          "output_type": "execute_result",
          "data": {
            "text/plain": [
              "array([[0.5       , 0.5       , 0.5       ],\n",
              "       [0.5885562 , 0.35962319, 0.38485296],\n",
              "       [0.39555998, 0.32300414, 0.27667802],\n",
              "       [0.48350599, 0.21131785, 0.19309868]])"
            ]
          },
          "metadata": {},
          "execution_count": 162
        }
      ],
      "source": [
        "# Computing the Sigmoid function for the Hidden layer\n",
        "\n",
        "hidden_layer = sigmoid(sum_synapse_0)\n",
        "hidden_layer"
      ]
    },
    {
      "cell_type": "code",
      "execution_count": null,
      "metadata": {
        "colab": {
          "base_uri": "https://localhost:8080/"
        },
        "id": "9EhN8MJR__yH",
        "outputId": "b4d7bd3e-b544-4e1f-b75d-8ae112af51a7"
      },
      "outputs": [
        {
          "output_type": "execute_result",
          "data": {
            "text/plain": [
              "array([[-0.017],\n",
              "       [-0.893],\n",
              "       [ 0.148]])"
            ]
          },
          "metadata": {},
          "execution_count": 163
        }
      ],
      "source": [
        "weights_1"
      ]
    },
    {
      "cell_type": "code",
      "execution_count": null,
      "metadata": {
        "colab": {
          "base_uri": "https://localhost:8080/"
        },
        "id": "DwsMlAEj__yH",
        "outputId": "ac20b346-bc9d-4d85-d2e7-5dd8ab39adc2"
      },
      "outputs": [
        {
          "output_type": "execute_result",
          "data": {
            "text/plain": [
              "array([[-0.381     ],\n",
              "       [-0.27419072],\n",
              "       [-0.25421887],\n",
              "       [-0.16834784]])"
            ]
          },
          "metadata": {},
          "execution_count": 164
        }
      ],
      "source": [
        "# \"sum_synapse_1\" This holds the sum function total of weights for the output layer\n",
        "# For the Output: Each row holds the sum_func for each input data\n",
        "\n",
        "sum_synapse_1 = np.dot(hidden_layer, weights_1)\n",
        "sum_synapse_1"
      ]
    },
    {
      "cell_type": "code",
      "execution_count": null,
      "metadata": {
        "colab": {
          "base_uri": "https://localhost:8080/"
        },
        "id": "RAygJonK__yH",
        "outputId": "75758b64-c765-4b1b-f1e2-3e000150d0a3"
      },
      "outputs": [
        {
          "output_type": "execute_result",
          "data": {
            "text/plain": [
              "array([[0.40588573],\n",
              "       [0.43187857],\n",
              "       [0.43678536],\n",
              "       [0.45801216]])"
            ]
          },
          "metadata": {},
          "execution_count": 165
        }
      ],
      "source": [
        "output_layer = sigmoid(sum_synapse_1)\n",
        "output_layer"
      ]
    },
    {
      "cell_type": "code",
      "execution_count": null,
      "metadata": {
        "colab": {
          "base_uri": "https://localhost:8080/"
        },
        "id": "dGMYqhdZ__yL",
        "outputId": "482307a9-9bbd-4d7f-ecc3-7a4112dcb980"
      },
      "outputs": [
        {
          "output_type": "execute_result",
          "data": {
            "text/plain": [
              "array([[0],\n",
              "       [1],\n",
              "       [1],\n",
              "       [0]])"
            ]
          },
          "metadata": {},
          "execution_count": 166
        }
      ],
      "source": [
        "outputs"
      ]
    },
    {
      "cell_type": "code",
      "execution_count": null,
      "metadata": {
        "colab": {
          "base_uri": "https://localhost:8080/"
        },
        "id": "LWlTZu4R__yL",
        "outputId": "de856f00-25fe-42bf-eb11-cb1c4f0ebcf3"
      },
      "outputs": [
        {
          "output_type": "execute_result",
          "data": {
            "text/plain": [
              "array([[0.40588573],\n",
              "       [0.43187857],\n",
              "       [0.43678536],\n",
              "       [0.45801216]])"
            ]
          },
          "metadata": {},
          "execution_count": 167
        }
      ],
      "source": [
        "output_layer"
      ]
    },
    {
      "cell_type": "code",
      "execution_count": null,
      "metadata": {
        "colab": {
          "base_uri": "https://localhost:8080/"
        },
        "id": "Jms4yGrH__yL",
        "outputId": "2076a1e9-d26c-482a-be80-b0b907c6cfa4"
      },
      "outputs": [
        {
          "output_type": "execute_result",
          "data": {
            "text/plain": [
              "array([[-0.40588573],\n",
              "       [ 0.56812143],\n",
              "       [ 0.56321464],\n",
              "       [-0.45801216]])"
            ]
          },
          "metadata": {},
          "execution_count": 168
        }
      ],
      "source": [
        "error_output_layer = outputs - output_layer\n",
        "error_output_layer"
      ]
    },
    {
      "cell_type": "code",
      "execution_count": null,
      "metadata": {
        "colab": {
          "base_uri": "https://localhost:8080/"
        },
        "id": "ZXtaWfU4__yL",
        "outputId": "9d4dd84f-c54f-40da-b132-a1413c973173"
      },
      "outputs": [
        {
          "output_type": "execute_result",
          "data": {
            "text/plain": [
              "np.float64(0.49880848923713045)"
            ]
          },
          "metadata": {},
          "execution_count": 169
        }
      ],
      "source": [
        "average_error = np.mean(abs(error_output_layer))\n",
        "average_error"
      ]
    },
    {
      "cell_type": "code",
      "execution_count": null,
      "metadata": {
        "id": "q0483wmN__yL"
      },
      "outputs": [],
      "source": [
        "def sigmoid_derivative(sigmoid):\n",
        "    return sigmoid * (1 - sigmoid)"
      ]
    },
    {
      "cell_type": "markdown",
      "metadata": {
        "id": "Op-krMD8__yL"
      },
      "source": [
        "# Delta output Calculation"
      ]
    },
    {
      "cell_type": "code",
      "execution_count": null,
      "metadata": {
        "colab": {
          "base_uri": "https://localhost:8080/"
        },
        "id": "CVRRZO6e__yM",
        "outputId": "7de7dd85-3881-4797-eac8-d8b5dab16c0b"
      },
      "outputs": [
        {
          "output_type": "execute_result",
          "data": {
            "text/plain": [
              "array([[0.40588573],\n",
              "       [0.43187857],\n",
              "       [0.43678536],\n",
              "       [0.45801216]])"
            ]
          },
          "metadata": {},
          "execution_count": 171
        }
      ],
      "source": [
        "# output_layer holds the results of our application of the sigmoid, computed above\n",
        "\n",
        "output_layer"
      ]
    },
    {
      "cell_type": "code",
      "execution_count": null,
      "metadata": {
        "colab": {
          "base_uri": "https://localhost:8080/"
        },
        "id": "oqIOyAcD__yM",
        "outputId": "295a4e78-6059-415c-bf05-6fe7bf4eecee"
      },
      "outputs": [
        {
          "output_type": "execute_result",
          "data": {
            "text/plain": [
              "array([[0.2411425 ],\n",
              "       [0.24535947],\n",
              "       [0.24600391],\n",
              "       [0.24823702]])"
            ]
          },
          "metadata": {},
          "execution_count": 172
        }
      ],
      "source": [
        "# derivative_output is our Derivative of the activation function (sigmoid) which we have on the slide\n",
        "# each row is for each instance of our input dataset\n",
        "\n",
        "derivative_output = sigmoid_derivative(output_layer)\n",
        "derivative_output"
      ]
    },
    {
      "cell_type": "code",
      "execution_count": null,
      "metadata": {
        "colab": {
          "base_uri": "https://localhost:8080/"
        },
        "id": "n59spzGw__yM",
        "outputId": "5635f02a-da7d-4aab-d860-577cdabac107"
      },
      "outputs": [
        {
          "output_type": "execute_result",
          "data": {
            "text/plain": [
              "array([[-0.40588573],\n",
              "       [ 0.56812143],\n",
              "       [ 0.56321464],\n",
              "       [-0.45801216]])"
            ]
          },
          "metadata": {},
          "execution_count": 173
        }
      ],
      "source": [
        "error_output_layer"
      ]
    },
    {
      "cell_type": "code",
      "execution_count": null,
      "metadata": {
        "colab": {
          "base_uri": "https://localhost:8080/"
        },
        "id": "XChmKy3f__yM",
        "outputId": "51153053-a1a0-407a-8903-1585c1c80899"
      },
      "outputs": [
        {
          "output_type": "execute_result",
          "data": {
            "text/plain": [
              "array([[-0.0978763 ],\n",
              "       [ 0.13939397],\n",
              "       [ 0.138553  ],\n",
              "       [-0.11369557]])"
            ]
          },
          "metadata": {},
          "execution_count": 174
        }
      ],
      "source": [
        "# Delta output\n",
        "# each row is for each instance of our input dataset\n",
        "\n",
        "delta_output = error_output_layer * derivative_output\n",
        "delta_output"
      ]
    },
    {
      "cell_type": "code",
      "execution_count": null,
      "metadata": {
        "colab": {
          "base_uri": "https://localhost:8080/"
        },
        "id": "jARg2sm5__yM",
        "outputId": "7713f223-7d19-448e-9544-10398f05a982"
      },
      "outputs": [
        {
          "output_type": "execute_result",
          "data": {
            "text/plain": [
              "array([[-0.0978763 ],\n",
              "       [ 0.13939397],\n",
              "       [ 0.138553  ],\n",
              "       [-0.11369557]])"
            ]
          },
          "metadata": {},
          "execution_count": 175
        }
      ],
      "source": [
        "delta_output"
      ]
    },
    {
      "cell_type": "code",
      "execution_count": null,
      "metadata": {
        "colab": {
          "base_uri": "https://localhost:8080/"
        },
        "id": "saLElD--__yM",
        "outputId": "959e8b2a-6a91-4c46-a0e5-595a704062f9"
      },
      "outputs": [
        {
          "output_type": "execute_result",
          "data": {
            "text/plain": [
              "array([[-0.017],\n",
              "       [-0.893],\n",
              "       [ 0.148]])"
            ]
          },
          "metadata": {},
          "execution_count": 176
        }
      ],
      "source": [
        "weights_1"
      ]
    },
    {
      "cell_type": "markdown",
      "metadata": {
        "id": "dwcWcwzc__yM"
      },
      "source": [
        "#### NOTE THAT:\n",
        "    * Lets deal with this part first (Weight  * delta_output)\n",
        "    * Notice that we will get an error below becuase of the shape of the weights_1  (Transpose)"
      ]
    },
    {
      "cell_type": "code",
      "execution_count": null,
      "metadata": {
        "id": "cqkJyEmG__yM"
      },
      "outputs": [],
      "source": [
        "delta_output_x_weight = delta_output.dot(weights_1.T)"
      ]
    },
    {
      "cell_type": "code",
      "execution_count": null,
      "metadata": {
        "colab": {
          "base_uri": "https://localhost:8080/"
        },
        "id": "b7J3ARYS__yN",
        "outputId": "33b39216-271c-4c0d-b010-135286a16149"
      },
      "outputs": [
        {
          "output_type": "execute_result",
          "data": {
            "text/plain": [
              "(3, 1)"
            ]
          },
          "metadata": {},
          "execution_count": 178
        }
      ],
      "source": [
        "weights_1.shape"
      ]
    },
    {
      "cell_type": "code",
      "execution_count": null,
      "metadata": {
        "colab": {
          "base_uri": "https://localhost:8080/"
        },
        "id": "Pb1LS_W4__yN",
        "outputId": "03c9ca8b-af3d-4dcf-f3c9-da606e142476"
      },
      "outputs": [
        {
          "output_type": "execute_result",
          "data": {
            "text/plain": [
              "array([[-0.017, -0.893,  0.148]])"
            ]
          },
          "metadata": {},
          "execution_count": 179
        }
      ],
      "source": [
        "weights_1T = weights_1.T\n",
        "weights_1T"
      ]
    },
    {
      "cell_type": "code",
      "execution_count": null,
      "metadata": {
        "colab": {
          "base_uri": "https://localhost:8080/"
        },
        "id": "cYsNxxQO__yN",
        "outputId": "a11e6e02-3105-4ed3-f39f-b6357e6097f9"
      },
      "outputs": [
        {
          "output_type": "execute_result",
          "data": {
            "text/plain": [
              "(1, 3)"
            ]
          },
          "metadata": {},
          "execution_count": 180
        }
      ],
      "source": [
        "weights_1T.shape"
      ]
    },
    {
      "cell_type": "markdown",
      "metadata": {
        "id": "RBfyU6CP__yN"
      },
      "source": [
        "#### Each one of the weights will have to be multiplied by each delta_output for each data instance     \n",
        "       \n",
        "       array([[-0.017],\n",
        "             [-0.893],\n",
        "             [ 0.148]])"
      ]
    },
    {
      "cell_type": "code",
      "execution_count": null,
      "metadata": {
        "colab": {
          "base_uri": "https://localhost:8080/"
        },
        "id": "WVcKmpNC__yN",
        "outputId": "a657d087-3d6a-4a09-8457-c2a4f5093e0c"
      },
      "outputs": [
        {
          "output_type": "execute_result",
          "data": {
            "text/plain": [
              "array([[ 0.0016639 ,  0.08740354, -0.01448569],\n",
              "       [-0.0023697 , -0.12447882,  0.02063031],\n",
              "       [-0.0023554 , -0.12372783,  0.02050584],\n",
              "       [ 0.00193282,  0.10153015, -0.01682694]])"
            ]
          },
          "metadata": {},
          "execution_count": 181
        }
      ],
      "source": [
        "delta_output_x_weight = delta_output.dot(weights_1T)\n",
        "delta_output_x_weight"
      ]
    },
    {
      "cell_type": "markdown",
      "metadata": {
        "id": "RApcW6Uz__yN"
      },
      "source": [
        "#### NOTE THAT:\n",
        "    * Now we need to deal with the last part of the equation   \n",
        "    * sigmoid_derivative * delta_output_x_weight"
      ]
    },
    {
      "cell_type": "code",
      "execution_count": null,
      "metadata": {
        "colab": {
          "base_uri": "https://localhost:8080/"
        },
        "id": "mLtMN9OE__yN",
        "outputId": "95165cdc-4520-475f-9da4-3905d12ff1d3"
      },
      "outputs": [
        {
          "output_type": "execute_result",
          "data": {
            "text/plain": [
              "array([[0.5       , 0.5       , 0.5       ],\n",
              "       [0.5885562 , 0.35962319, 0.38485296],\n",
              "       [0.39555998, 0.32300414, 0.27667802],\n",
              "       [0.48350599, 0.21131785, 0.19309868]])"
            ]
          },
          "metadata": {},
          "execution_count": 182
        }
      ],
      "source": [
        "hidden_layer"
      ]
    },
    {
      "cell_type": "code",
      "execution_count": null,
      "metadata": {
        "colab": {
          "base_uri": "https://localhost:8080/"
        },
        "id": "1hYq2LXO__yN",
        "outputId": "7bfe7d7b-997d-4de5-e602-8131ff0abae5"
      },
      "outputs": [
        {
          "output_type": "execute_result",
          "data": {
            "text/plain": [
              "array([[ 0.00041597,  0.02185088, -0.00362142],\n",
              "       [-0.00057384, -0.02866677,  0.00488404],\n",
              "       [-0.00056316, -0.02705587,  0.00410378],\n",
              "       [ 0.00048268,  0.01692128, -0.00262183]])"
            ]
          },
          "metadata": {},
          "execution_count": 183
        }
      ],
      "source": [
        "#  Each row in the output of delta_hidden_layer is for the data input values\n",
        "\n",
        "delta_hidden_layer = delta_output_x_weight * sigmoid_derivative(hidden_layer)\n",
        "delta_hidden_layer"
      ]
    },
    {
      "cell_type": "markdown",
      "metadata": {
        "id": "HcQY3dSs__yN"
      },
      "source": [
        "#### We will deal with the (input * delta) first\n",
        "* The first column in \"hidden_layer\" holds  the activation value for the first neuron"
      ]
    },
    {
      "cell_type": "code",
      "execution_count": null,
      "metadata": {
        "colab": {
          "base_uri": "https://localhost:8080/"
        },
        "id": "bZzaZAwV__yN",
        "outputId": "1f54d91b-2912-4b65-df95-7ce741d3d5fa"
      },
      "outputs": [
        {
          "output_type": "execute_result",
          "data": {
            "text/plain": [
              "array([[0.5       , 0.5       , 0.5       ],\n",
              "       [0.5885562 , 0.35962319, 0.38485296],\n",
              "       [0.39555998, 0.32300414, 0.27667802],\n",
              "       [0.48350599, 0.21131785, 0.19309868]])"
            ]
          },
          "metadata": {},
          "execution_count": 184
        }
      ],
      "source": [
        "hidden_layer"
      ]
    },
    {
      "cell_type": "code",
      "execution_count": null,
      "metadata": {
        "colab": {
          "base_uri": "https://localhost:8080/"
        },
        "id": "uu3IKfrd__yO",
        "outputId": "90d9e1ed-472e-4a01-e865-77ca599b1fea"
      },
      "outputs": [
        {
          "output_type": "execute_result",
          "data": {
            "text/plain": [
              "array([[-0.0978763 ],\n",
              "       [ 0.13939397],\n",
              "       [ 0.138553  ],\n",
              "       [-0.11369557]])"
            ]
          },
          "metadata": {},
          "execution_count": 185
        }
      ],
      "source": [
        "delta_output"
      ]
    },
    {
      "cell_type": "markdown",
      "metadata": {
        "id": "2VsYgBqz__yO"
      },
      "source": [
        "* We need to multiply the \"inputs\" by \"delta\" however, for the matrix multiplication we need to transpose the values in the hidden_layer, so we have all of them on one row for each neuron"
      ]
    },
    {
      "cell_type": "code",
      "execution_count": null,
      "metadata": {
        "colab": {
          "base_uri": "https://localhost:8080/"
        },
        "id": "wUXcoS4r__yO",
        "outputId": "6611f592-ab37-4815-9ac4-e1f06410ca3d"
      },
      "outputs": [
        {
          "output_type": "execute_result",
          "data": {
            "text/plain": [
              "array([[0.5       , 0.5885562 , 0.39555998, 0.48350599],\n",
              "       [0.5       , 0.35962319, 0.32300414, 0.21131785],\n",
              "       [0.5       , 0.38485296, 0.27667802, 0.19309868]])"
            ]
          },
          "metadata": {},
          "execution_count": 186
        }
      ],
      "source": [
        "hidden_layerT = hidden_layer.T\n",
        "hidden_layerT"
      ]
    },
    {
      "cell_type": "code",
      "execution_count": null,
      "metadata": {
        "colab": {
          "base_uri": "https://localhost:8080/"
        },
        "id": "4Ehehee8__yO",
        "outputId": "eca320dc-9dc9-45bc-9024-ba002ed6ebf1"
      },
      "outputs": [
        {
          "output_type": "execute_result",
          "data": {
            "text/plain": [
              "array([[0.03293657],\n",
              "       [0.02191844],\n",
              "       [0.02108814]])"
            ]
          },
          "metadata": {},
          "execution_count": 187
        }
      ],
      "source": [
        "input_x_delta1 = hidden_layerT.dot(delta_output)\n",
        "input_x_delta1"
      ]
    },
    {
      "cell_type": "markdown",
      "metadata": {
        "id": "CZkhr13t__yO"
      },
      "source": [
        "#### Let us now update the \"weights_1\""
      ]
    },
    {
      "cell_type": "code",
      "execution_count": null,
      "metadata": {
        "colab": {
          "base_uri": "https://localhost:8080/"
        },
        "id": "_I9KGl4y__yO",
        "outputId": "1560423e-0618-491a-87f8-0d7b2b5382aa"
      },
      "outputs": [
        {
          "output_type": "execute_result",
          "data": {
            "text/plain": [
              "array([[-0.00711903],\n",
              "       [-0.88642447],\n",
              "       [ 0.15432644]])"
            ]
          },
          "metadata": {},
          "execution_count": 188
        }
      ],
      "source": [
        "weights_1 = weights_1 + (input_x_delta1 * learning_rate)\n",
        "weights_1"
      ]
    },
    {
      "cell_type": "code",
      "execution_count": null,
      "metadata": {
        "colab": {
          "base_uri": "https://localhost:8080/"
        },
        "id": "0neyPJJE__yR",
        "outputId": "b34eafd8-5099-425f-d244-345828b6584a"
      },
      "outputs": [
        {
          "output_type": "execute_result",
          "data": {
            "text/plain": [
              "array([[0, 0],\n",
              "       [0, 1],\n",
              "       [1, 0],\n",
              "       [1, 1]])"
            ]
          },
          "metadata": {},
          "execution_count": 189
        }
      ],
      "source": [
        "# First column is X1, and 2nd column is X2 (our input values )\n",
        "\n",
        "input_layer"
      ]
    },
    {
      "cell_type": "code",
      "execution_count": null,
      "metadata": {
        "colab": {
          "base_uri": "https://localhost:8080/"
        },
        "id": "NgEqkyQZ__yR",
        "outputId": "99a47b84-10a9-421e-da11-55a38dfeb007"
      },
      "outputs": [
        {
          "output_type": "execute_result",
          "data": {
            "text/plain": [
              "array([[ 0.00041597,  0.02185088, -0.00362142],\n",
              "       [-0.00057384, -0.02866677,  0.00488404],\n",
              "       [-0.00056316, -0.02705587,  0.00410378],\n",
              "       [ 0.00048268,  0.01692128, -0.00262183]])"
            ]
          },
          "metadata": {},
          "execution_count": 190
        }
      ],
      "source": [
        "delta_hidden_layer"
      ]
    },
    {
      "cell_type": "code",
      "execution_count": null,
      "metadata": {
        "colab": {
          "base_uri": "https://localhost:8080/"
        },
        "id": "__NbibqT__yR",
        "outputId": "b4c3bd37-f9a7-4b2f-f5f0-397fc98ae87a"
      },
      "outputs": [
        {
          "output_type": "execute_result",
          "data": {
            "text/plain": [
              "array([[0, 0, 1, 1],\n",
              "       [0, 1, 0, 1]])"
            ]
          },
          "metadata": {},
          "execution_count": 191
        }
      ],
      "source": [
        "# we need to transpose the values just as we did before\n",
        "\n",
        "input_layerT = input_layer.T\n",
        "input_layerT"
      ]
    },
    {
      "cell_type": "code",
      "execution_count": null,
      "metadata": {
        "colab": {
          "base_uri": "https://localhost:8080/"
        },
        "id": "r_KAtqsu__yR",
        "outputId": "c04e4564-0668-4460-882f-a775bbf17c5a"
      },
      "outputs": [
        {
          "output_type": "execute_result",
          "data": {
            "text/plain": [
              "array([[-8.04778516e-05, -1.01345901e-02,  1.48194623e-03],\n",
              "       [-9.11603819e-05, -1.17454886e-02,  2.26221011e-03]])"
            ]
          },
          "metadata": {},
          "execution_count": 192
        }
      ],
      "source": [
        "input_x_delta0 = input_layerT.dot(delta_hidden_layer)\n",
        "input_x_delta0"
      ]
    },
    {
      "cell_type": "code",
      "execution_count": null,
      "metadata": {
        "colab": {
          "base_uri": "https://localhost:8080/"
        },
        "id": "2uVZgE1s__yR",
        "outputId": "d3e2f66b-8ae8-4f9e-8d8c-3b05867e81bf"
      },
      "outputs": [
        {
          "output_type": "execute_result",
          "data": {
            "text/plain": [
              "array([[-0.42402414, -0.74304038, -0.96055542],\n",
              "       [ 0.35797265, -0.58052365, -0.46832134]])"
            ]
          },
          "metadata": {},
          "execution_count": 193
        }
      ],
      "source": [
        "weights_0 = weights_0 + (input_x_delta0 * learning_rate)\n",
        "weights_0"
      ]
    },
    {
      "cell_type": "markdown",
      "metadata": {
        "id": "t2MK8gJh__yS"
      },
      "source": [
        "### So all the lines of code above, has allowed us to complete our first epoch. we will need to put all the code together so we can run multiple epochs"
      ]
    },
    {
      "cell_type": "markdown",
      "metadata": {
        "id": "qU7AZxfY__yS"
      },
      "source": [
        "# Complete Artificial Neural Network"
      ]
    },
    {
      "cell_type": "code",
      "execution_count": null,
      "metadata": {
        "id": "abWiuXUy__yS"
      },
      "outputs": [],
      "source": [
        "#Importing Numpy\n",
        "import numpy as np\n",
        "\n",
        "# This is the sigmoid Function\n",
        "def sigmoid(sum):\n",
        "  return 1 / (1 + np.exp(-sum))\n",
        "\n",
        "#This is the sigmoid derivative as used before\n",
        "def sigmoid_derivative(sigmoid):\n",
        "  return sigmoid * (1 - sigmoid)\n",
        "\n",
        "# Our input values\n",
        "inputs = np.array([[0,0],\n",
        "                   [0,1],\n",
        "                   [1,0],\n",
        "                   [1,1]])\n",
        "#Our output values\n",
        "outputs = np.array([[0],\n",
        "                    [1],\n",
        "                    [1],\n",
        "                    [0]])"
      ]
    },
    {
      "cell_type": "code",
      "execution_count": null,
      "metadata": {
        "id": "OWItRkoN__yS"
      },
      "outputs": [],
      "source": [
        "# weights_0 = np.array([[-0.424, -0.740, -0.961],\n",
        "#                     [0.358, -0.577, -0.469]])\n",
        "\n",
        "# weights_1 = np.array([[-0.017],\n",
        "#                     [-0.893],\n",
        "#                     [0.148]])"
      ]
    },
    {
      "cell_type": "markdown",
      "metadata": {
        "id": "tfLjYiRD__yS"
      },
      "source": [
        "### Initializing our weights with random values\n",
        "* <b>Note:</b> Multiplying the random number by 2 and subtracting by 1, allows us to have a mix of both positive and negative random numbers for the weights"
      ]
    },
    {
      "cell_type": "code",
      "execution_count": null,
      "metadata": {
        "id": "s4kiXDPV__yS"
      },
      "outputs": [],
      "source": [
        "weights_0 = 2 * np.random.random((2, 3)) - 1\n",
        "weights_1 = 2 * np.random.random((3, 1)) - 1"
      ]
    },
    {
      "cell_type": "code",
      "execution_count": null,
      "metadata": {
        "colab": {
          "base_uri": "https://localhost:8080/"
        },
        "id": "40f8Xwe5__yS",
        "outputId": "f3172858-a291-4fe6-ddce-85ab8d8b79a5"
      },
      "outputs": [
        {
          "output_type": "stream",
          "name": "stdout",
          "text": [
            "Epoch: 1 Error: 0.5034356475498758\n",
            "Epoch: 100001 Error: 0.01703093570958237\n",
            "Epoch: 200001 Error: 0.011831693006845938\n",
            "Epoch: 300001 Error: 0.009593008681558568\n"
          ]
        }
      ],
      "source": [
        "epochs = 400000\n",
        "learning_rate = 0.6\n",
        "error = []\n",
        "\n",
        "for epoch in range(epochs):\n",
        "  input_layer = inputs\n",
        "  sum_synapse0 = np.dot(input_layer, weights_0)\n",
        "  hidden_layer = sigmoid(sum_synapse0)\n",
        "\n",
        "  sum_synapse1 = np.dot(hidden_layer, weights_1)\n",
        "  output_layer = sigmoid(sum_synapse1)\n",
        "\n",
        "  error_output_layer = outputs - output_layer\n",
        "  average = np.mean(abs(error_output_layer))\n",
        "    #print after every specified range of the value\n",
        "  if epoch % 100000 == 0:\n",
        "    print('Epoch: ' + str(epoch + 1) + ' Error: ' + str(average))\n",
        "    error.append(average)\n",
        "\n",
        "  derivative_output = sigmoid_derivative(output_layer)\n",
        "  delta_output = error_output_layer * derivative_output\n",
        "\n",
        "  weights1T = weights_1.T\n",
        "  delta_output_weight = delta_output.dot(weights1T)\n",
        "  delta_hidden_layer = delta_output_weight * sigmoid_derivative(hidden_layer)\n",
        "\n",
        "  hidden_layerT = hidden_layer.T\n",
        "  input_x_delta1 = hidden_layerT.dot(delta_output)\n",
        "  weights_1 = weights_1 + (input_x_delta1 * learning_rate)\n",
        "\n",
        "  input_layerT = input_layer.T\n",
        "  input_x_delta0 = input_layerT.dot(delta_hidden_layer)\n",
        "  weights_0 = weights_0 + (input_x_delta0 * learning_rate)"
      ]
    },
    {
      "cell_type": "markdown",
      "metadata": {
        "id": "BupmDcH1__yS"
      },
      "source": [
        "#### At this point after runing for 1million epochs you can see the value is very low."
      ]
    },
    {
      "cell_type": "code",
      "execution_count": null,
      "metadata": {
        "colab": {
          "base_uri": "https://localhost:8080/"
        },
        "id": "_a9zkuHU__yS",
        "outputId": "37cb526c-efc1-499c-8028-aa408042de9a"
      },
      "outputs": [
        {
          "output_type": "execute_result",
          "data": {
            "text/plain": [
              "0.9903290320690693"
            ]
          },
          "metadata": {},
          "execution_count": 198
        }
      ],
      "source": [
        "#1 million epochs with a learning rate of 0.3\n",
        "1 - 0.009670967930930745"
      ]
    },
    {
      "cell_type": "code",
      "execution_count": null,
      "metadata": {
        "colab": {
          "base_uri": "https://localhost:8080/"
        },
        "id": "YuHu7kdR__yS",
        "outputId": "c24fb8b6-899b-498b-b850-ccb8d8490643"
      },
      "outputs": [
        {
          "output_type": "execute_result",
          "data": {
            "text/plain": [
              "0.9918079771904136"
            ]
          },
          "metadata": {},
          "execution_count": 199
        }
      ],
      "source": [
        "#after 400,000 epochs, with a learning rate of 0.6\n",
        "1- 0.008192022809586367"
      ]
    },
    {
      "cell_type": "markdown",
      "metadata": {
        "id": "awBzG8sQ__yT"
      },
      "source": [
        "# Let's visualize this result"
      ]
    },
    {
      "cell_type": "code",
      "execution_count": null,
      "metadata": {
        "id": "JD17jAPp__yT"
      },
      "outputs": [],
      "source": [
        "import matplotlib.pyplot as plt\n"
      ]
    },
    {
      "cell_type": "code",
      "execution_count": null,
      "metadata": {
        "colab": {
          "base_uri": "https://localhost:8080/",
          "height": 472
        },
        "id": "d_G0NgWn__yT",
        "outputId": "f6d73c4b-cb05-4caa-fbdb-08395b40d06d"
      },
      "outputs": [
        {
          "output_type": "display_data",
          "data": {
            "text/plain": [
              "<Figure size 640x480 with 1 Axes>"
            ],
            "image/png": "[encoded data removed]"
          },
          "metadata": {}
        }
      ],
      "source": [
        "plt.xlabel('Number of Epochs')\n",
        "plt.ylabel('Error')\n",
        "plt.title('Plot showing results from Neural Network')\n",
        "plt.plot(error)\n",
        "plt.show()"
      ]
    },
    {
      "cell_type": "code",
      "execution_count": null,
      "metadata": {
        "colab": {
          "base_uri": "https://localhost:8080/",
          "height": 472
        },
        "id": "p-jXY9Hc__yT",
        "outputId": "2b4f4f80-29e7-4eaf-c00a-3c1d01938fa2"
      },
      "outputs": [
        {
          "output_type": "display_data",
          "data": {
            "text/plain": [
              "<Figure size 640x480 with 1 Axes>"
            ],
            "image/png": "[encoded data removed]"
          },
          "metadata": {}
        }
      ],
      "source": [
        "plt.xlabel('Number of Epochs')\n",
        "plt.ylabel('Error')\n",
        "plt.title('Plot showing results from Neural Network')\n",
        "plt.plot(error)\n",
        "plt.show()"
      ]
    },
    {
      "cell_type": "markdown",
      "metadata": {
        "id": "HZnyeEt5__yT"
      },
      "source": [
        "#### Compearing the outputs and the predictions"
      ]
    },
    {
      "cell_type": "code",
      "execution_count": null,
      "metadata": {
        "colab": {
          "base_uri": "https://localhost:8080/"
        },
        "id": "Fg_ZKz5Y__yT",
        "outputId": "a5c6806c-f3d0-4afd-b063-afad61175711"
      },
      "outputs": [
        {
          "output_type": "execute_result",
          "data": {
            "text/plain": [
              "array([[0],\n",
              "       [1],\n",
              "       [1],\n",
              "       [0]])"
            ]
          },
          "metadata": {},
          "execution_count": 203
        }
      ],
      "source": [
        "outputs"
      ]
    },
    {
      "cell_type": "code",
      "execution_count": null,
      "metadata": {
        "colab": {
          "base_uri": "https://localhost:8080/"
        },
        "id": "Q0nPVCwc__yT",
        "outputId": "c75b9bad-36a1-4e2e-fec1-4f2ffe58024e"
      },
      "outputs": [
        {
          "output_type": "execute_result",
          "data": {
            "text/plain": [
              "array([[0.01047459],\n",
              "       [0.99213037],\n",
              "       [0.9925242 ],\n",
              "       [0.00728026]])"
            ]
          },
          "metadata": {},
          "execution_count": 204
        }
      ],
      "source": [
        "output_layer"
      ]
    },
    {
      "cell_type": "markdown",
      "metadata": {
        "id": "5sjHeIjO__yT"
      },
      "source": [
        "#### * We see that our neural network was able to get values close to the actual values from the results.\n",
        "#### * This shows that our neural network can handle the complexity of the XOR operator dataset."
      ]
    },
    {
      "cell_type": "markdown",
      "metadata": {
        "id": "GIjwhbU4__yT"
      },
      "source": [
        "* Let us see the updated weights. These are the weights we will require if we want to make future predictions"
      ]
    },
    {
      "cell_type": "code",
      "execution_count": null,
      "metadata": {
        "colab": {
          "base_uri": "https://localhost:8080/"
        },
        "id": "ZiyzdASd__yT",
        "outputId": "c2333480-8d9e-4b92-a5ad-70c0b20893d9"
      },
      "outputs": [
        {
          "output_type": "execute_result",
          "data": {
            "text/plain": [
              "array([[-12.29672012,  -0.55346989,   7.18260575],\n",
              "       [  6.02371411,   0.85606174,   7.43566711]])"
            ]
          },
          "metadata": {},
          "execution_count": 205
        }
      ],
      "source": [
        "weights_0"
      ]
    },
    {
      "cell_type": "code",
      "execution_count": null,
      "metadata": {
        "colab": {
          "base_uri": "https://localhost:8080/"
        },
        "id": "RkmvtnTd__yT",
        "outputId": "df09d112-883c-402d-b94d-261c5fec6916"
      },
      "outputs": [
        {
          "output_type": "execute_result",
          "data": {
            "text/plain": [
              "array([[ 15.77828714],\n",
              "       [-46.90215504],\n",
              "       [ 22.02731991]])"
            ]
          },
          "metadata": {},
          "execution_count": 206
        }
      ],
      "source": [
        "weights_1"
      ]
    },
    {
      "cell_type": "code",
      "execution_count": null,
      "metadata": {
        "id": "XgJOlGoc__yT"
      },
      "outputs": [],
      "source": [
        "# This function accepts an instance of a dataset\n",
        "\n",
        "def calculate_output(instance):\n",
        "    #input to hidden layer\n",
        "    hidden_layer = sigmoid(np.dot(instance, weights_0))\n",
        "    #hidden to output layer\n",
        "    output_layer = sigmoid(np.dot(hidden_layer, weights_1))\n",
        "    return output_layer[0]"
      ]
    },
    {
      "cell_type": "code",
      "execution_count": null,
      "metadata": {
        "colab": {
          "base_uri": "https://localhost:8080/"
        },
        "id": "zk_OkS4N__yT",
        "outputId": "17df2b52-0a4f-4963-e043-5079a08b9672"
      },
      "outputs": [
        {
          "output_type": "execute_result",
          "data": {
            "text/plain": [
              "0"
            ]
          },
          "metadata": {},
          "execution_count": 208
        }
      ],
      "source": [
        "round(calculate_output(np.array([0, 0])))"
      ]
    },
    {
      "cell_type": "code",
      "execution_count": null,
      "metadata": {
        "colab": {
          "base_uri": "https://localhost:8080/"
        },
        "id": "HHmIAWki__yT",
        "outputId": "b38ea8e0-f09a-4ede-d67d-e2a568c2a846"
      },
      "outputs": [
        {
          "output_type": "execute_result",
          "data": {
            "text/plain": [
              "1"
            ]
          },
          "metadata": {},
          "execution_count": 209
        }
      ],
      "source": [
        "round(calculate_output(np.array([0, 1])))"
      ]
    },
    {
      "cell_type": "code",
      "execution_count": null,
      "metadata": {
        "colab": {
          "base_uri": "https://localhost:8080/"
        },
        "id": "mYznqoK6__yU",
        "outputId": "c21c4c34-9dae-4d69-9c7d-ea5c09933e78"
      },
      "outputs": [
        {
          "output_type": "execute_result",
          "data": {
            "text/plain": [
              "1"
            ]
          },
          "metadata": {},
          "execution_count": 210
        }
      ],
      "source": [
        "round(calculate_output(np.array([1, 0])))"
      ]
    },
    {
      "cell_type": "code",
      "execution_count": null,
      "metadata": {
        "colab": {
          "base_uri": "https://localhost:8080/"
        },
        "id": "WquQeUd2__yU",
        "outputId": "96220f53-757d-4b05-e2be-1ce469f38efe"
      },
      "outputs": [
        {
          "output_type": "execute_result",
          "data": {
            "text/plain": [
              "0"
            ]
          },
          "metadata": {},
          "execution_count": 211
        }
      ],
      "source": [
        "round(calculate_output(np.array([1, 1])))"
      ]
    },
    {
      "cell_type": "code",
      "execution_count": null,
      "metadata": {
        "id": "FlaJmYNN__yU"
      },
      "outputs": [],
      "source": []
    }
  ],
  "metadata": {
    "kernelspec": {
      "display_name": "Python 3",
      "language": "python",
      "name": "python3"
    },
    "language_info": {
      "codemirror_mode": {
        "name": "ipython",
        "version": 3
      },
      "file_extension": ".py",
      "mimetype": "text/x-python",
      "name": "python",
      "nbconvert_exporter": "python",
      "pygments_lexer": "ipython3",
      "version": "3.7.6"
    },
    "colab": {
      "provenance": [],
      "include_colab_link": true
    }
  },
  "nbformat": 4,
  "nbformat_minor": 0
}