{
  "cells": [
    {
      "cell_type": "markdown",
      "metadata": {
        "id": "view-in-github",
        "colab_type": "text"
      },
      "source": [
        "<a href=\"https://colab.research.google.com/github/mchandler-CPT/mscai-eportfolio/blob/main/Copy_of_Unit11_model_Performance_Measurement.ipynb\" target=\"_parent\"><img src=\"https://colab.research.google.com/assets/colab-badge.svg\" alt=\"Open In Colab\"/></a>"
      ]
    },
    {
      "cell_type": "markdown",
      "metadata": {
        "id": "7JKye8qqFQsZ"
      },
      "source": [
        "### Model performance measurement\n",
        "\n",
        "#### Confusion Matrix"
      ],
      "id": "7JKye8qqFQsZ"
    },
    {
      "cell_type": "code",
      "execution_count": 1,
      "metadata": {
        "id": "7g7XTXW8FQsd"
      },
      "outputs": [],
      "source": [
        "from sklearn.metrics import confusion_matrix"
      ],
      "id": "7g7XTXW8FQsd"
    },
    {
      "cell_type": "code",
      "execution_count": 2,
      "metadata": {
        "id": "hJn_MnArFQsf",
        "colab": {
          "base_uri": "https://localhost:8080/"
        },
        "outputId": "61363004-69c5-4ed8-be4d-57c2d2ffe57c"
      },
      "outputs": [
        {
          "output_type": "execute_result",
          "data": {
            "text/plain": [
              "(np.int64(0), np.int64(2), np.int64(1), np.int64(1))"
            ]
          },
          "metadata": {},
          "execution_count": 2
        }
      ],
      "source": [
        "tn, fp, fn, tp = confusion_matrix([0, 1, 0, 1], [1, 1, 1, 0]).ravel()\n",
        "(tn, fp, fn, tp)"
      ],
      "id": "hJn_MnArFQsf"
    },
    {
      "cell_type": "code",
      "execution_count": 3,
      "metadata": {
        "id": "N9zrlJl-FQsh",
        "colab": {
          "base_uri": "https://localhost:8080/",
          "height": 455
        },
        "outputId": "559cc07a-b224-4caa-93ee-1f11110a6928"
      },
      "outputs": [
        {
          "output_type": "display_data",
          "data": {
            "text/plain": [
              "<Figure size 640x480 with 2 Axes>"
            ],
            "image/png": "[encoded data removed]"
          },
          "metadata": {}
        }
      ],
      "source": [
        "import matplotlib.pyplot as plt\n",
        "from sklearn.datasets import make_classification\n",
        "from sklearn.metrics import confusion_matrix, ConfusionMatrixDisplay\n",
        "from sklearn.model_selection import train_test_split\n",
        "from sklearn.svm import SVC\n",
        "X, y = make_classification(random_state=0)\n",
        "X_train, X_test, y_train, y_test = train_test_split(X, y,\n",
        "                                                    random_state=0)\n",
        "clf = SVC(random_state=0)\n",
        "clf.fit(X_train, y_train)\n",
        "SVC(random_state=0)\n",
        "predictions = clf.predict(X_test)\n",
        "cm = confusion_matrix(y_test, predictions, labels=clf.classes_)\n",
        "disp = ConfusionMatrixDisplay(confusion_matrix=cm,\n",
        "                               display_labels=clf.classes_)\n",
        "disp.plot()\n",
        "\n",
        "plt.show()\n"
      ],
      "id": "N9zrlJl-FQsh"
    },
    {
      "cell_type": "markdown",
      "metadata": {
        "id": "cikoPjLvFQsh"
      },
      "source": [
        "#### F1, Accuracy, Recall, AUC and Precision scores"
      ],
      "id": "cikoPjLvFQsh"
    },
    {
      "cell_type": "code",
      "execution_count": 4,
      "metadata": {
        "id": "g-EDGWtVFQsi",
        "colab": {
          "base_uri": "https://localhost:8080/"
        },
        "outputId": "17cfb91b-3e78-48a6-f83b-124285eaee0a"
      },
      "outputs": [
        {
          "output_type": "stream",
          "name": "stdout",
          "text": [
            "Macro f1 score: 0.26666666666666666\n",
            "Micro F1: 0.3333333333333333\n",
            "Weighted Average F1: 0.26666666666666666\n",
            "F1 No Average: [0.8 0.  0. ]\n",
            "F1 No Average: [0.66666667 1.         0.66666667]\n"
          ]
        }
      ],
      "source": [
        "from sklearn.metrics import f1_score\n",
        "\n",
        "y_true = [0, 1, 2, 0, 1, 2]\n",
        "y_pred = [0, 2, 1, 0, 0, 1]\n",
        "\n",
        "print(f\"Macro f1 score: {f1_score(y_true, y_pred, average='macro')}\")\n",
        "\n",
        "print(f\"Micro F1: {f1_score(y_true, y_pred, average='micro')}\")\n",
        "\n",
        "print(f\"Weighted Average F1: {f1_score(y_true, y_pred, average='weighted')}\")\n",
        "\n",
        "print(f\"F1 No Average: {f1_score(y_true, y_pred, average=None)}\")\n",
        "\n",
        "y_true = [0, 0, 0, 0, 0, 0]\n",
        "y_pred = [0, 0, 0, 0, 0, 0]\n",
        "f1_score(y_true, y_pred, zero_division=1)\n",
        "\n",
        "# multilabel classification\n",
        "y_true = [[0, 0, 0], [1, 1, 1], [0, 1, 1]]\n",
        "y_pred = [[0, 0, 0], [1, 1, 1], [1, 1, 0]]\n",
        "print(f\"F1 No Average: {f1_score(y_true, y_pred, average=None)}\")\n"
      ],
      "id": "g-EDGWtVFQsi"
    },
    {
      "cell_type": "code",
      "execution_count": 5,
      "metadata": {
        "id": "ifjZtgvEFQsk",
        "colab": {
          "base_uri": "https://localhost:8080/"
        },
        "outputId": "97f2b5f1-d0c2-49bb-fa96-fbe13a34599b"
      },
      "outputs": [
        {
          "output_type": "execute_result",
          "data": {
            "text/plain": [
              "0.5"
            ]
          },
          "metadata": {},
          "execution_count": 5
        }
      ],
      "source": [
        " from sklearn.metrics import accuracy_score\n",
        "y_pred = [0, 2, 1, 3]\n",
        "y_true = [0, 1, 2, 3]\n",
        "accuracy_score(y_true, y_pred)"
      ],
      "id": "ifjZtgvEFQsk"
    },
    {
      "cell_type": "code",
      "execution_count": 6,
      "metadata": {
        "id": "xNx3H8wYFQsl",
        "colab": {
          "base_uri": "https://localhost:8080/"
        },
        "outputId": "0526f2ad-5caa-4325-d2ee-638b6c6debcb"
      },
      "outputs": [
        {
          "output_type": "execute_result",
          "data": {
            "text/plain": [
              "0.2222222222222222"
            ]
          },
          "metadata": {},
          "execution_count": 6
        }
      ],
      "source": [
        "from sklearn.metrics import precision_score\n",
        "y_true = [0, 1, 2, 0, 1, 2]\n",
        "y_pred = [0, 2, 1, 0, 0, 1]\n",
        "precision_score(y_true, y_pred, average='macro')"
      ],
      "id": "xNx3H8wYFQsl"
    },
    {
      "cell_type": "code",
      "execution_count": 7,
      "metadata": {
        "id": "9u9amoebFQsm",
        "colab": {
          "base_uri": "https://localhost:8080/"
        },
        "outputId": "5fa9fe4a-ccd7-4eea-e48c-32dc16469f01"
      },
      "outputs": [
        {
          "output_type": "execute_result",
          "data": {
            "text/plain": [
              "0.3333333333333333"
            ]
          },
          "metadata": {},
          "execution_count": 7
        }
      ],
      "source": [
        "from sklearn.metrics import recall_score\n",
        "y_true = [0, 1, 2, 0, 1, 2]\n",
        "y_pred = [0, 2, 1, 0, 0, 1]\n",
        "recall_score(y_true, y_pred, average='macro')"
      ],
      "id": "9u9amoebFQsm"
    },
    {
      "cell_type": "code",
      "execution_count": 8,
      "metadata": {
        "id": "cFQgyWarFQso",
        "colab": {
          "base_uri": "https://localhost:8080/"
        },
        "outputId": "6cbc295c-515f-45ed-f5eb-95b320238d3d"
      },
      "outputs": [
        {
          "output_type": "stream",
          "name": "stdout",
          "text": [
            "              precision    recall  f1-score   support\n",
            "\n",
            "     class 0       0.50      1.00      0.67         1\n",
            "     class 1       0.00      0.00      0.00         1\n",
            "     class 2       1.00      0.67      0.80         3\n",
            "\n",
            "    accuracy                           0.60         5\n",
            "   macro avg       0.50      0.56      0.49         5\n",
            "weighted avg       0.70      0.60      0.61         5\n",
            "\n"
          ]
        }
      ],
      "source": [
        "from sklearn.metrics import classification_report\n",
        "y_true = [0, 1, 2, 2, 2]\n",
        "y_pred = [0, 0, 2, 2, 1]\n",
        "target_names = ['class 0', 'class 1', 'class 2']\n",
        "print(classification_report(y_true, y_pred, target_names=target_names))"
      ],
      "id": "cFQgyWarFQso"
    },
    {
      "cell_type": "code",
      "execution_count": 9,
      "metadata": {
        "id": "jHsfHdJFFQsp",
        "colab": {
          "base_uri": "https://localhost:8080/"
        },
        "outputId": "777c4315-0f5b-4337-e936-bf0e3d00ac9d"
      },
      "outputs": [
        {
          "output_type": "execute_result",
          "data": {
            "text/plain": [
              "np.float64(0.994767718408118)"
            ]
          },
          "metadata": {},
          "execution_count": 9
        }
      ],
      "source": [
        "from sklearn.datasets import load_breast_cancer\n",
        "from sklearn.linear_model import LogisticRegression\n",
        "from sklearn.metrics import roc_auc_score\n",
        "X, y = load_breast_cancer(return_X_y=True)\n",
        "clf = LogisticRegression(solver=\"liblinear\", random_state=0).fit(X, y)\n",
        "roc_auc_score(y, clf.predict_proba(X)[:, 1])\n"
      ],
      "id": "jHsfHdJFFQsp"
    },
    {
      "cell_type": "code",
      "execution_count": 10,
      "metadata": {
        "id": "aMtfQPq3FQsq",
        "colab": {
          "base_uri": "https://localhost:8080/"
        },
        "outputId": "04547c4b-8650-468a-a398-ea0d93bd2cf0"
      },
      "outputs": [
        {
          "output_type": "execute_result",
          "data": {
            "text/plain": [
              "np.float64(0.9913333333333334)"
            ]
          },
          "metadata": {},
          "execution_count": 10
        }
      ],
      "source": [
        "#multiclass case\n",
        "from sklearn.datasets import load_iris\n",
        "X, y = load_iris(return_X_y=True)\n",
        "clf = LogisticRegression(solver=\"liblinear\").fit(X, y)\n",
        "roc_auc_score(y, clf.predict_proba(X), multi_class='ovr')"
      ],
      "id": "aMtfQPq3FQsq"
    },
    {
      "cell_type": "code",
      "execution_count": 11,
      "metadata": {
        "id": "AZN6jMAuFQsq"
      },
      "outputs": [],
      "source": [
        "import numpy as np\n",
        "import matplotlib.pyplot as plt\n",
        "from itertools import cycle\n",
        "\n",
        "from sklearn import svm, datasets\n",
        "from sklearn.metrics import roc_curve, auc\n",
        "from sklearn.model_selection import train_test_split\n",
        "from sklearn.preprocessing import label_binarize\n",
        "from sklearn.multiclass import OneVsRestClassifier\n",
        "from sklearn.metrics import roc_auc_score\n",
        "\n",
        "# Import some data to play with\n",
        "iris = datasets.load_iris()\n",
        "X = iris.data\n",
        "y = iris.target\n",
        "\n",
        "# Binarize the output\n",
        "y = label_binarize(y, classes=[0, 1, 2])\n",
        "n_classes = y.shape[1]\n",
        "\n",
        "# Add noisy features to make the problem harder\n",
        "random_state = np.random.RandomState(0)\n",
        "n_samples, n_features = X.shape\n",
        "X = np.c_[X, random_state.randn(n_samples, 200 * n_features)]\n",
        "\n",
        "# shuffle and split training and test sets\n",
        "X_train, X_test, y_train, y_test = train_test_split(X, y, test_size=0.5, random_state=0)\n",
        "\n",
        "# Learn to predict each class against the other\n",
        "classifier = OneVsRestClassifier(\n",
        "    svm.SVC(kernel=\"linear\", probability=True, random_state=random_state)\n",
        ")\n",
        "y_score = classifier.fit(X_train, y_train).decision_function(X_test)\n",
        "\n",
        "# Compute ROC curve and ROC area for each class\n",
        "fpr = dict()\n",
        "tpr = dict()\n",
        "roc_auc = dict()\n",
        "for i in range(n_classes):\n",
        "    fpr[i], tpr[i], _ = roc_curve(y_test[:, i], y_score[:, i])\n",
        "    roc_auc[i] = auc(fpr[i], tpr[i])\n",
        "\n",
        "# Compute micro-average ROC curve and ROC area\n",
        "fpr[\"micro\"], tpr[\"micro\"], _ = roc_curve(y_test.ravel(), y_score.ravel())\n",
        "roc_auc[\"micro\"] = auc(fpr[\"micro\"], tpr[\"micro\"])"
      ],
      "id": "AZN6jMAuFQsq"
    },
    {
      "cell_type": "code",
      "execution_count": 12,
      "metadata": {
        "id": "jJlW63_kFQsq",
        "colab": {
          "base_uri": "https://localhost:8080/",
          "height": 472
        },
        "outputId": "37dcebe1-8990-40c8-dac9-a2e87893eaa8"
      },
      "outputs": [
        {
          "output_type": "display_data",
          "data": {
            "text/plain": [
              "<Figure size 640x480 with 1 Axes>"
            ],
            "image/png": "[encoded data removed]"
          },
          "metadata": {}
        }
      ],
      "source": [
        "plt.figure()\n",
        "lw = 2\n",
        "plt.plot(\n",
        "    fpr[2],\n",
        "    tpr[2],\n",
        "    color=\"darkorange\",\n",
        "    lw=lw,\n",
        "    label=\"ROC curve (area = %0.2f)\" % roc_auc[2],\n",
        ")\n",
        "plt.plot([0, 1], [0, 1], color=\"navy\", lw=lw, linestyle=\"--\")\n",
        "plt.xlim([0.0, 1.0])\n",
        "plt.ylim([0.0, 1.05])\n",
        "plt.xlabel(\"False Positive Rate\")\n",
        "plt.ylabel(\"True Positive Rate\")\n",
        "plt.title(\"Receiver operating characteristic example\")\n",
        "plt.legend(loc=\"lower right\")\n",
        "plt.show()\n"
      ],
      "id": "jJlW63_kFQsq"
    },
    {
      "cell_type": "code",
      "execution_count": 13,
      "metadata": {
        "id": "0TEYfxSXFQsr",
        "colab": {
          "base_uri": "https://localhost:8080/"
        },
        "outputId": "573afea4-3385-42e5-f01a-b315af2ae38d"
      },
      "outputs": [
        {
          "output_type": "execute_result",
          "data": {
            "text/plain": [
              "0.21616187468057912"
            ]
          },
          "metadata": {},
          "execution_count": 13
        }
      ],
      "source": [
        "from sklearn.metrics import log_loss\n",
        "log_loss([\"spam\", \"ham\", \"ham\", \"spam\"], [[.1, .9], [.9, .1], [.8, .2], [.35, .65]])"
      ],
      "id": "0TEYfxSXFQsr"
    },
    {
      "cell_type": "markdown",
      "metadata": {
        "id": "0FzQV4sSFQsr"
      },
      "source": [
        "### Regression metrics"
      ],
      "id": "0FzQV4sSFQsr"
    },
    {
      "cell_type": "markdown",
      "metadata": {
        "id": "ORyAy_-LFQsr"
      },
      "source": [
        "#### RMSE"
      ],
      "id": "ORyAy_-LFQsr"
    },
    {
      "cell_type": "code",
      "execution_count": 14,
      "metadata": {
        "id": "9Igim7FJFQsr",
        "colab": {
          "base_uri": "https://localhost:8080/"
        },
        "outputId": "6f02d741-9578-42d0-c4f9-bf4b169a7c74"
      },
      "outputs": [
        {
          "output_type": "execute_result",
          "data": {
            "text/plain": [
              "0.375"
            ]
          },
          "metadata": {},
          "execution_count": 14
        }
      ],
      "source": [
        "from sklearn.metrics import mean_squared_error\n",
        "y_true = [3, -0.5, 2, 7]\n",
        "y_pred = [2.5, 0.0, 2, 8]\n",
        "mean_squared_error(y_true, y_pred)"
      ],
      "id": "9Igim7FJFQsr"
    },
    {
      "cell_type": "markdown",
      "metadata": {
        "id": "6CJ-sgcPFQss"
      },
      "source": [
        "#### MAE"
      ],
      "id": "6CJ-sgcPFQss"
    },
    {
      "cell_type": "code",
      "execution_count": 15,
      "metadata": {
        "id": "K_FaltLDFQss",
        "colab": {
          "base_uri": "https://localhost:8080/"
        },
        "outputId": "760ef5d7-70e7-472d-94da-2f63e3546dcf"
      },
      "outputs": [
        {
          "output_type": "execute_result",
          "data": {
            "text/plain": [
              "0.5"
            ]
          },
          "metadata": {},
          "execution_count": 15
        }
      ],
      "source": [
        "from sklearn.metrics import mean_absolute_error\n",
        "y_true = [3, -0.5, 2, 7]\n",
        "y_pred = [2.5, 0.0, 2, 8]\n",
        "mean_absolute_error(y_true, y_pred)"
      ],
      "id": "K_FaltLDFQss"
    },
    {
      "cell_type": "markdown",
      "metadata": {
        "id": "vnBvZA9xFQss"
      },
      "source": [
        "#### r squared"
      ],
      "id": "vnBvZA9xFQss"
    },
    {
      "cell_type": "code",
      "execution_count": 16,
      "metadata": {
        "id": "-m7GUmp3FQss",
        "colab": {
          "base_uri": "https://localhost:8080/"
        },
        "outputId": "aae358e6-432b-49c2-e38b-ff0474a3e328"
      },
      "outputs": [
        {
          "output_type": "execute_result",
          "data": {
            "text/plain": [
              "0.9486081370449679"
            ]
          },
          "metadata": {},
          "execution_count": 16
        }
      ],
      "source": [
        "from sklearn.metrics import r2_score\n",
        "\n",
        "r2_score(y_true, y_pred)"
      ],
      "id": "-m7GUmp3FQss"
    },
    {
      "cell_type": "code",
      "execution_count": 16,
      "metadata": {
        "id": "qwO2gVCMFQsu"
      },
      "outputs": [],
      "source": [],
      "id": "qwO2gVCMFQsu"
    },
    {
      "cell_type": "code",
      "execution_count": 16,
      "metadata": {
        "id": "Pt8-kjXgFQsv"
      },
      "outputs": [],
      "source": [],
      "id": "Pt8-kjXgFQsv"
    }
  ],
  "metadata": {
    "kernelspec": {
      "display_name": "Python 3",
      "language": "python",
      "name": "python3"
    },
    "language_info": {
      "codemirror_mode": {
        "name": "ipython",
        "version": 3
      },
      "file_extension": ".py",
      "mimetype": "text/x-python",
      "name": "python",
      "nbconvert_exporter": "python",
      "pygments_lexer": "ipython3",
      "version": "3.7.6"
    },
    "colab": {
      "provenance": [],
      "include_colab_link": true
    }
  },
  "nbformat": 4,
  "nbformat_minor": 5
}