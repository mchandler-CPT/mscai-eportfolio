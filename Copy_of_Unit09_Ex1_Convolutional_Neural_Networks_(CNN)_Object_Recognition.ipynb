{
  "cells": [
    {
      "cell_type": "markdown",
      "metadata": {
        "id": "view-in-github",
        "colab_type": "text"
      },
      "source": [
        "<a href=\"https://colab.research.google.com/github/mchandler-CPT/mscai-eportfolio/blob/main/Copy_of_Unit09_Ex1_Convolutional_Neural_Networks_(CNN)_Object_Recognition.ipynb\" target=\"_parent\"><img src=\"https://colab.research.google.com/assets/colab-badge.svg\" alt=\"Open In Colab\"/></a>"
      ]
    },
    {
      "cell_type": "markdown",
      "metadata": {
        "id": "K73qo4rJDmjG"
      },
      "source": [
        "# Convolutional Neural Networks (CNN) - Object Recognition"
      ]
    },
    {
      "cell_type": "markdown",
      "metadata": {
        "id": "NuyYLXZcDmjH"
      },
      "source": [
        "# Imports"
      ]
    },
    {
      "cell_type": "code",
      "execution_count": null,
      "metadata": {
        "id": "l4Y6RvbZDmjI"
      },
      "outputs": [],
      "source": [
        "from numpy.random import seed\n",
        "seed(888)\n",
        "\n",
        "#from tensorflow import set_random_seed\n",
        "#set_random_seed(4112)\n",
        "import tensorflow\n",
        "tensorflow.random.set_seed(112)"
      ]
    },
    {
      "cell_type": "code",
      "execution_count": null,
      "metadata": {
        "id": "YOOpMeDiDmjK"
      },
      "outputs": [],
      "source": [
        "import os\n",
        "import numpy as np\n",
        "import itertools\n",
        "\n",
        "import tensorflow as tf\n",
        "import keras\n",
        "from keras.datasets import cifar10 # importing the dataset\n",
        "\n",
        "from keras.models import Sequential       #to define model/ layers\n",
        "from keras.layers import Dense, Conv2D, MaxPool2D, Flatten\n",
        "\n",
        "from sklearn.metrics import confusion_matrix\n",
        "\n",
        "# To Explore the images\n",
        "from IPython.display import display\n",
        "from keras.preprocessing.image import array_to_img\n",
        "\n",
        "from tensorflow.keras.utils import to_categorical\n",
        "\n",
        "import matplotlib.pyplot as plt\n",
        "%matplotlib inline"
      ]
    },
    {
      "cell_type": "code",
      "execution_count": null,
      "metadata": {
        "id": "eG_4z6KjDmjM"
      },
      "outputs": [],
      "source": [
        "import pandas as pd"
      ]
    },
    {
      "cell_type": "markdown",
      "metadata": {
        "id": "deXm7tLYDmjO"
      },
      "source": [
        "We are using Tensorflow to power Keras"
      ]
    },
    {
      "cell_type": "markdown",
      "metadata": {
        "id": "kJaFqVD9DmjP"
      },
      "source": [
        "# Get the Dataset"
      ]
    },
    {
      "cell_type": "markdown",
      "metadata": {
        "id": "EO_9eVtnDmjQ"
      },
      "source": [
        "CIFAR-10  is an established computer-vision dataset used for object recognition. It is a subset of the 80 million tiny images dataset and consists of 60,000 32x32 color images containing one of 10 object classes, with 6000 images per class. It was collected by Alex Krizhevsky, Vinod Nair, and Geoffrey Hinton.\n",
        "The dataset is popularly used to train image classification models"
      ]
    },
    {
      "cell_type": "code",
      "execution_count": null,
      "metadata": {
        "id": "U6w817DJDmjQ"
      },
      "outputs": [],
      "source": [
        "# Getting the dataset as a Tuple\n",
        "\n",
        "(x_train_all, y_train_all), (x_test, y_test) = cifar10.load_data()"
      ]
    },
    {
      "cell_type": "markdown",
      "metadata": {
        "id": "kJb3CB8-DmjR"
      },
      "source": [
        "# Constants"
      ]
    },
    {
      "cell_type": "code",
      "execution_count": null,
      "metadata": {
        "id": "oFRpDRFEDmjR"
      },
      "outputs": [],
      "source": [
        "LABEL_NAMES = ['airplane', 'automobile','bird','cat', 'deer', 'dog', 'frog', 'horse', 'ship', 'truck']"
      ]
    },
    {
      "cell_type": "markdown",
      "metadata": {
        "id": "KWHoK-_NDmjS"
      },
      "source": [
        "# Exploring the Data"
      ]
    },
    {
      "cell_type": "markdown",
      "metadata": {
        "id": "PNqXOwumDmjS"
      },
      "source": [
        "Lets look at the first image in the dataset"
      ]
    },
    {
      "cell_type": "code",
      "execution_count": null,
      "metadata": {
        "id": "ejzp1kttDmjT",
        "outputId": "12fe7244-4fc1-4f88-90bf-26bc96be3165"
      },
      "outputs": [
        {
          "data": {
            "text/plain": [
              "(50000, 32, 32, 3)"
            ]
          },
          "execution_count": 6,
          "metadata": {},
          "output_type": "execute_result"
        }
      ],
      "source": [
        "x_train_all.shape"
      ]
    },
    {
      "cell_type": "code",
      "execution_count": null,
      "metadata": {
        "scrolled": true,
        "id": "FvALVi1qDmjU",
        "outputId": "fcf4dc19-fa65-4815-f19d-ee1fee698266"
      },
      "outputs": [
        {
          "data": {
            "text/plain": [
              "array([[[ 59,  62,  63],\n",
              "        [ 43,  46,  45],\n",
              "        [ 50,  48,  43],\n",
              "        ...,\n",
              "        [158, 132, 108],\n",
              "        [152, 125, 102],\n",
              "        [148, 124, 103]],\n",
              "\n",
              "       [[ 16,  20,  20],\n",
              "        [  0,   0,   0],\n",
              "        [ 18,   8,   0],\n",
              "        ...,\n",
              "        [123,  88,  55],\n",
              "        [119,  83,  50],\n",
              "        [122,  87,  57]],\n",
              "\n",
              "       [[ 25,  24,  21],\n",
              "        [ 16,   7,   0],\n",
              "        [ 49,  27,   8],\n",
              "        ...,\n",
              "        [118,  84,  50],\n",
              "        [120,  84,  50],\n",
              "        [109,  73,  42]],\n",
              "\n",
              "       ...,\n",
              "\n",
              "       [[208, 170,  96],\n",
              "        [201, 153,  34],\n",
              "        [198, 161,  26],\n",
              "        ...,\n",
              "        [160, 133,  70],\n",
              "        [ 56,  31,   7],\n",
              "        [ 53,  34,  20]],\n",
              "\n",
              "       [[180, 139,  96],\n",
              "        [173, 123,  42],\n",
              "        [186, 144,  30],\n",
              "        ...,\n",
              "        [184, 148,  94],\n",
              "        [ 97,  62,  34],\n",
              "        [ 83,  53,  34]],\n",
              "\n",
              "       [[177, 144, 116],\n",
              "        [168, 129,  94],\n",
              "        [179, 142,  87],\n",
              "        ...,\n",
              "        [216, 184, 140],\n",
              "        [151, 118,  84],\n",
              "        [123,  92,  72]]], dtype=uint8)"
            ]
          },
          "execution_count": 7,
          "metadata": {},
          "output_type": "execute_result"
        }
      ],
      "source": [
        "x_train_all[0]"
      ]
    },
    {
      "cell_type": "code",
      "execution_count": null,
      "metadata": {
        "id": "GFEmj8XQDmjV",
        "outputId": "753345ae-f227-44c1-a6df-6d15e113baf8"
      },
      "outputs": [
        {
          "data": {
            "text/plain": [
              "(32, 32, 3)"
            ]
          },
          "execution_count": 8,
          "metadata": {},
          "output_type": "execute_result"
        }
      ],
      "source": [
        "x_train_all[0].shape"
      ]
    },
    {
      "cell_type": "markdown",
      "metadata": {
        "id": "ukBLutacDmjV"
      },
      "source": [
        "#### Using ipython to display the image"
      ]
    },
    {
      "cell_type": "code",
      "execution_count": null,
      "metadata": {
        "id": "HgN8n57LDmjW",
        "outputId": "2ceeb93e-2f2a-4283-f449-06eab5809879"
      },
      "outputs": [
        {
          "data": {
            "image/png": "[encoded data removed]",
            "text/plain": [
              "<PIL.Image.Image image mode=RGB size=32x32 at 0x14327C860>"
            ]
          },
          "metadata": {},
          "output_type": "display_data"
        }
      ],
      "source": [
        "# To use the ipython display to view an image\n",
        "\n",
        "pic = array_to_img(x_train_all[0])\n",
        "display(pic)"
      ]
    },
    {
      "cell_type": "markdown",
      "metadata": {
        "id": "y_W1ElQHDmjW"
      },
      "source": [
        "#### Using Matplotlib to view the image"
      ]
    },
    {
      "cell_type": "code",
      "execution_count": null,
      "metadata": {
        "id": "R-zjjV15DmjX",
        "outputId": "ba19301f-326f-4b1a-f73d-c80cd1298f7e"
      },
      "outputs": [
        {
          "data": {
            "text/plain": [
              "<matplotlib.image.AxesImage at 0x15007a908>"
            ]
          },
          "execution_count": 10,
          "metadata": {},
          "output_type": "execute_result"
        },
        {
          "data": {
            "image/png": "[encoded data removed]",
            "text/plain": [
              "<Figure size 432x288 with 1 Axes>"
            ]
          },
          "metadata": {
            "needs_background": "light"
          },
          "output_type": "display_data"
        }
      ],
      "source": [
        "plt.imshow(x_train_all[0])\n"
      ]
    },
    {
      "cell_type": "code",
      "execution_count": null,
      "metadata": {
        "id": "N8xj1lNrDmjX",
        "outputId": "bc6fdc18-fe8c-4975-fdc9-75d550dcee44"
      },
      "outputs": [
        {
          "data": {
            "text/plain": [
              "(50000, 1)"
            ]
          },
          "execution_count": 11,
          "metadata": {},
          "output_type": "execute_result"
        }
      ],
      "source": [
        "# To check the label\n",
        "y_train_all.shape"
      ]
    },
    {
      "cell_type": "code",
      "execution_count": null,
      "metadata": {
        "id": "KTzp9SRmDmjY",
        "outputId": "7bc307f0-38c8-4796-96b3-1e721387002c"
      },
      "outputs": [
        {
          "data": {
            "text/plain": [
              "6"
            ]
          },
          "execution_count": 12,
          "metadata": {},
          "output_type": "execute_result"
        }
      ],
      "source": [
        "# Note that in the image above the index 1 corresponds to \"Automobile\"\n",
        "# we have a 2 dimension numpy array; that is why we also include \" [0] \"\n",
        "\n",
        "y_train_all[0][0]"
      ]
    },
    {
      "cell_type": "code",
      "execution_count": null,
      "metadata": {
        "id": "995_p3EODmjY",
        "outputId": "86d7c8c6-e813-4631-d8f1-f50c958b4eb2"
      },
      "outputs": [
        {
          "data": {
            "text/plain": [
              "'frog'"
            ]
          },
          "execution_count": 13,
          "metadata": {},
          "output_type": "execute_result"
        }
      ],
      "source": [
        "# Using the lable names to get the actual names of classes\n",
        "\n",
        "LABEL_NAMES[y_train_all[0][0]]"
      ]
    },
    {
      "cell_type": "markdown",
      "metadata": {
        "id": "Wx9znapSDmjZ"
      },
      "source": [
        "### The shape of the image\n",
        "    * 32, 32 is the weight and the height\n",
        "    * 3 is the number of channels (These are the number of colors): Red, Green & Blue (RGB)\n",
        "    \n",
        " * x_train_all.shape  >>> (50000, 32, 32, 3)\n",
        "     * this means we have 50,000 entries | then 32x32  weight and height| 3 colors (RGB)"
      ]
    },
    {
      "cell_type": "code",
      "execution_count": null,
      "metadata": {
        "id": "NnmyY2iYDmjZ",
        "outputId": "38e89f0a-9b0e-46d8-8a3f-00e75499750d"
      },
      "outputs": [
        {
          "data": {
            "text/plain": [
              "(50000, 32, 32, 3)"
            ]
          },
          "execution_count": 14,
          "metadata": {},
          "output_type": "execute_result"
        }
      ],
      "source": [
        "x_train_all.shape"
      ]
    },
    {
      "cell_type": "code",
      "execution_count": null,
      "metadata": {
        "id": "m4eKt8cEDmjZ",
        "outputId": "ffcb597c-028f-4ef0-8dd1-1bf3229ef593"
      },
      "outputs": [
        {
          "name": "stdout",
          "output_type": "stream",
          "text": [
            "Number of images = 50000 \t| width = 32 \t| height = 32 \t| channels = 3\n"
          ]
        }
      ],
      "source": [
        "number_of_images, x, y, c = x_train_all.shape\n",
        "print(f'Number of images = {number_of_images} \\t| width = {x} \\t| height = {y} \\t| channels = {c}')"
      ]
    },
    {
      "cell_type": "code",
      "execution_count": null,
      "metadata": {
        "scrolled": true,
        "id": "msz2ApqjDmja",
        "outputId": "1f94de4f-e95f-4249-89ba-1430b4c7c6f2"
      },
      "outputs": [
        {
          "data": {
            "text/plain": [
              "(10000, 32, 32, 3)"
            ]
          },
          "execution_count": 16,
          "metadata": {},
          "output_type": "execute_result"
        }
      ],
      "source": [
        "x_test.shape"
      ]
    },
    {
      "cell_type": "markdown",
      "metadata": {
        "id": "5a7VZapVDmja"
      },
      "source": [
        "# Preprocess Data"
      ]
    },
    {
      "cell_type": "markdown",
      "metadata": {
        "id": "EoRwfKnPDmjb"
      },
      "source": [
        "#### * We need to preprocess our data so that it is easier to feed it to our neural network.\n",
        ""
      ]
    },
    {
      "cell_type": "markdown",
      "metadata": {
        "id": "VnBNqJ6TDmjb"
      },
      "source": [
        "### Scalling both x_train and test\n"
      ]
    },
    {
      "cell_type": "code",
      "execution_count": null,
      "metadata": {
        "id": "EKimKCJ1Dmjb"
      },
      "outputs": [],
      "source": [
        "x_train_all =x_train_all / 255.0"
      ]
    },
    {
      "cell_type": "code",
      "execution_count": null,
      "metadata": {
        "id": "zgFou7GlDmjc"
      },
      "outputs": [],
      "source": [
        "x_test =  x_test / 255.0"
      ]
    },
    {
      "cell_type": "code",
      "execution_count": null,
      "metadata": {
        "id": "syrXBgdyDmjc",
        "outputId": "1d059680-b8cd-4eb7-d9bc-f4f45dee4d03"
      },
      "outputs": [
        {
          "data": {
            "text/plain": [
              "array([[3],\n",
              "       [8],\n",
              "       [8],\n",
              "       ...,\n",
              "       [5],\n",
              "       [1],\n",
              "       [7]], dtype=uint8)"
            ]
          },
          "execution_count": 19,
          "metadata": {},
          "output_type": "execute_result"
        }
      ],
      "source": [
        "y_test"
      ]
    },
    {
      "cell_type": "markdown",
      "metadata": {
        "id": "rJCxGew6Dmjd"
      },
      "source": [
        "### Creating categorical encoding for the \"y \" data"
      ]
    },
    {
      "cell_type": "code",
      "execution_count": null,
      "metadata": {
        "id": "yUh6E5WHDmjd"
      },
      "outputs": [],
      "source": [
        "# 10 >>> simply means we have 10 classes like we already know (creating the encoding for 10 classes)\n",
        "y_cat_train_all = to_categorical(y_train_all,10)"
      ]
    },
    {
      "cell_type": "code",
      "execution_count": null,
      "metadata": {
        "id": "2XWf4Ol4Dmje"
      },
      "outputs": [],
      "source": [
        "# 10 >>> simply means we have 10 classes like we already know (creating the encoding for 10 classes)\n",
        "y_cat_test = to_categorical(y_test,10)"
      ]
    },
    {
      "cell_type": "code",
      "execution_count": null,
      "metadata": {
        "id": "pv7H7ziFDmje",
        "outputId": "5807a1f6-8edf-4ee3-d7a6-80167104d2e0"
      },
      "outputs": [
        {
          "data": {
            "text/plain": [
              "array([[0., 0., 0., ..., 0., 0., 0.],\n",
              "       [0., 0., 0., ..., 0., 0., 1.],\n",
              "       [0., 0., 0., ..., 0., 0., 1.],\n",
              "       ...,\n",
              "       [0., 0., 0., ..., 0., 0., 1.],\n",
              "       [0., 1., 0., ..., 0., 0., 0.],\n",
              "       [0., 1., 0., ..., 0., 0., 0.]], dtype=float32)"
            ]
          },
          "execution_count": 22,
          "metadata": {},
          "output_type": "execute_result"
        }
      ],
      "source": [
        "y_cat_train_all"
      ]
    },
    {
      "cell_type": "markdown",
      "metadata": {
        "id": "XzyAr8KgDmjf"
      },
      "source": [
        "# Creating the Validation dataset"
      ]
    },
    {
      "cell_type": "markdown",
      "metadata": {
        "id": "h6KeO5nwDmjp"
      },
      "source": [
        "For small data we usually go with:\n",
        "    * 60% for Training\n",
        "    * 20% Validation\n",
        "    * 20% Testing\n",
        "    \n",
        "Only the final selected model gets to see the testing data. This helps us to ensure that we have close to real data in real-world when the model is deployed. Only our best model gets to see our testing dataset. Because it will give us a realistic impression of how our model will do in the real world\n",
        "___\n",
        "\n",
        "However, if the dataset is enormous.:\n",
        "    * 1% for is used for validation\n",
        "    * 1% for is used for testing"
      ]
    },
    {
      "cell_type": "code",
      "execution_count": null,
      "metadata": {
        "id": "XH3v3pfPDmjq"
      },
      "outputs": [],
      "source": [
        "VALIDATION_SIZE = 10000"
      ]
    },
    {
      "cell_type": "code",
      "execution_count": null,
      "metadata": {
        "id": "RoTHIH2yDmjq",
        "outputId": "21818e5d-3af1-4cd1-99a1-b30798309ca9"
      },
      "outputs": [
        {
          "data": {
            "text/plain": [
              "(10000, 32, 32, 3)"
            ]
          },
          "execution_count": 24,
          "metadata": {},
          "output_type": "execute_result"
        }
      ],
      "source": [
        "# VALIDATION_SIZE = 10,000 as defined above\n",
        "\n",
        "x_val = x_train_all[:VALIDATION_SIZE]\n",
        "y_val_cat = y_cat_train_all[:VALIDATION_SIZE]\n",
        "x_val.shape"
      ]
    },
    {
      "cell_type": "code",
      "execution_count": null,
      "metadata": {
        "id": "7QEiZDKwDmjq",
        "outputId": "cbfccc2c-19f4-4a98-c3ed-aef6237189a4"
      },
      "outputs": [
        {
          "data": {
            "text/plain": [
              "array([[0., 0., 0., ..., 0., 0., 0.],\n",
              "       [0., 0., 0., ..., 0., 0., 1.],\n",
              "       [0., 0., 0., ..., 0., 0., 1.],\n",
              "       ...,\n",
              "       [0., 1., 0., ..., 0., 0., 0.],\n",
              "       [0., 1., 0., ..., 0., 0., 0.],\n",
              "       [0., 0., 0., ..., 0., 0., 0.]], dtype=float32)"
            ]
          },
          "execution_count": 25,
          "metadata": {},
          "output_type": "execute_result"
        }
      ],
      "source": [
        "y_val_cat"
      ]
    },
    {
      "cell_type": "markdown",
      "metadata": {
        "id": "g464NAPcDmjr"
      },
      "source": [
        "<b>NEXT:</b>\n",
        "* We Create two NumPy arrays x_train and y_train that have the shape(40000, 3072) and (40000,1) respectively.\n",
        "* They will contain the last 40000 values from x_train_all and y_train_all respectively"
      ]
    },
    {
      "cell_type": "code",
      "execution_count": null,
      "metadata": {
        "id": "vDu5dmK_Dmjr"
      },
      "outputs": [],
      "source": [
        "x_train = x_train_all[VALIDATION_SIZE:]\n",
        "y_cat_train= y_cat_train_all[VALIDATION_SIZE:]"
      ]
    },
    {
      "cell_type": "code",
      "execution_count": null,
      "metadata": {
        "id": "YnHi2r7RDmjr",
        "outputId": "4057f39f-8a01-443f-d2f7-e8fca9126547"
      },
      "outputs": [
        {
          "data": {
            "text/plain": [
              "(40000, 32, 32, 3)"
            ]
          },
          "execution_count": 27,
          "metadata": {},
          "output_type": "execute_result"
        }
      ],
      "source": [
        "x_train.shape"
      ]
    },
    {
      "cell_type": "code",
      "execution_count": null,
      "metadata": {
        "id": "2ixUELtZDmjs",
        "outputId": "61e48680-9ab4-4fdc-a5f9-abc54460e17c"
      },
      "outputs": [
        {
          "data": {
            "text/plain": [
              "array([[0., 1., 0., ..., 0., 0., 0.],\n",
              "       [0., 0., 0., ..., 0., 0., 0.],\n",
              "       [0., 0., 0., ..., 0., 0., 0.],\n",
              "       ...,\n",
              "       [0., 0., 0., ..., 0., 0., 1.],\n",
              "       [0., 1., 0., ..., 0., 0., 0.],\n",
              "       [0., 1., 0., ..., 0., 0., 0.]], dtype=float32)"
            ]
          },
          "execution_count": 28,
          "metadata": {},
          "output_type": "execute_result"
        }
      ],
      "source": [
        "y_cat_train"
      ]
    },
    {
      "cell_type": "markdown",
      "metadata": {
        "id": "HlPEntFwDmjt"
      },
      "source": [
        " ## NOTE:\n",
        " <h4>* <em>FILTERS: </em>\n",
        "    Typical values for the number of filters can be determined by the data set's complexity. So essentially the larger the images, the more variety and the more classes you're trying to classify then the more filters you should have.</h4>\n",
        "   <h4> * Most times people typically pick filter based on powers of 2, for example, 32. However, if you have more complex data like road signs etc. you should be starting with a higher filter value</h4>\n",
        "   <h4>The default STRIDE value is 1 x 1 pixel</h4>"
      ]
    },
    {
      "cell_type": "markdown",
      "metadata": {
        "id": "nIYqRh0yDmjt"
      },
      "source": [
        "# BUILDING THE MODEL"
      ]
    },
    {
      "cell_type": "code",
      "execution_count": null,
      "metadata": {
        "id": "T6GIx4FtDmju"
      },
      "outputs": [],
      "source": [
        "model = Sequential()\n",
        "\n",
        "## ************* FIRST SET OF LAYERS *************************\n",
        "\n",
        "# CONVOLUTIONAL LAYER\n",
        "model.add(Conv2D(filters=32, kernel_size=(4,4),input_shape=(32, 32, 3), activation='relu',))\n",
        "# POOLING LAYER\n",
        "model.add(MaxPool2D(pool_size=(2, 2)))\n",
        "\n",
        "## *************** SECOND SET OF LAYERS ***********************\n",
        "#Since the shape of the data is 32 x 32 x 3 =3072 ...\n",
        "#We need to deal with this more complex structure by adding yet another convolutional layer\n",
        "\n",
        "# *************CONVOLUTIONAL LAYER\n",
        "model.add(Conv2D(filters=32, kernel_size=(4,4),input_shape=(32, 32, 3), activation='relu',))\n",
        "# POOLING LAYER\n",
        "model.add(MaxPool2D(pool_size=(2, 2)))\n",
        "\n",
        "# FLATTEN IMAGES FROM 32 x 32 x 3 =3072 BEFORE FINAL LAYER\n",
        "model.add(Flatten())\n",
        "\n",
        "# 256 NEURONS IN DENSE HIDDEN LAYER (YOU CAN CHANGE THIS NUMBER OF NEURONS)\n",
        "model.add(Dense(256, activation='relu'))\n",
        "\n",
        "# LAST LAYER IS THE CLASSIFIER, THUS 10 POSSIBLE CLASSES\n",
        "model.add(Dense(10, activation='softmax'))\n",
        "\n",
        "\n",
        "model.compile(loss='categorical_crossentropy',\n",
        "              optimizer='adam',\n",
        "              metrics=['accuracy'])"
      ]
    },
    {
      "cell_type": "code",
      "execution_count": null,
      "metadata": {
        "id": "-Q4JXMU1Dmju",
        "outputId": "0ed62c7d-f7fd-41ee-e166-f0e2f55022cd"
      },
      "outputs": [
        {
          "name": "stdout",
          "output_type": "stream",
          "text": [
            "Model: \"sequential\"\n",
            "_________________________________________________________________\n",
            "Layer (type)                 Output Shape              Param #   \n",
            "=================================================================\n",
            "conv2d (Conv2D)              (None, 29, 29, 32)        1568      \n",
            "_________________________________________________________________\n",
            "max_pooling2d (MaxPooling2D) (None, 14, 14, 32)        0         \n",
            "_________________________________________________________________\n",
            "conv2d_1 (Conv2D)            (None, 11, 11, 32)        16416     \n",
            "_________________________________________________________________\n",
            "max_pooling2d_1 (MaxPooling2 (None, 5, 5, 32)          0         \n",
            "_________________________________________________________________\n",
            "flatten (Flatten)            (None, 800)               0         \n",
            "_________________________________________________________________\n",
            "dense (Dense)                (None, 256)               205056    \n",
            "_________________________________________________________________\n",
            "dense_1 (Dense)              (None, 10)                2570      \n",
            "=================================================================\n",
            "Total params: 225,610\n",
            "Trainable params: 225,610\n",
            "Non-trainable params: 0\n",
            "_________________________________________________________________\n"
          ]
        }
      ],
      "source": [
        "model.summary()"
      ]
    },
    {
      "cell_type": "markdown",
      "metadata": {
        "id": "R2Kdj2EhDmjv"
      },
      "source": [
        "### Adding Early stopping"
      ]
    },
    {
      "cell_type": "code",
      "execution_count": null,
      "metadata": {
        "id": "rUv734q-Dmjv"
      },
      "outputs": [],
      "source": [
        "from tensorflow.keras.callbacks import EarlyStopping"
      ]
    },
    {
      "cell_type": "code",
      "execution_count": null,
      "metadata": {
        "id": "dx0YXZw5Dmjw"
      },
      "outputs": [],
      "source": [
        "early_stop = EarlyStopping(monitor='val_loss',patience=2)"
      ]
    },
    {
      "cell_type": "code",
      "execution_count": null,
      "metadata": {
        "id": "QK-p4krtDmjx",
        "outputId": "9390b069-9723-429e-9cff-9637a1189cc7"
      },
      "outputs": [
        {
          "name": "stdout",
          "output_type": "stream",
          "text": [
            "Epoch 1/25\n",
            "1250/1250 [==============================] - 41s 32ms/step - loss: 1.7493 - accuracy: 0.3581 - val_loss: 1.2798 - val_accuracy: 0.5376\n",
            "Epoch 2/25\n",
            "1250/1250 [==============================] - 38s 30ms/step - loss: 1.2367 - accuracy: 0.5585 - val_loss: 1.1360 - val_accuracy: 0.6018\n",
            "Epoch 3/25\n",
            "1250/1250 [==============================] - 39s 31ms/step - loss: 1.0621 - accuracy: 0.6307 - val_loss: 1.0527 - val_accuracy: 0.6311\n",
            "Epoch 4/25\n",
            "1250/1250 [==============================] - 39s 32ms/step - loss: 0.9311 - accuracy: 0.6739 - val_loss: 0.9894 - val_accuracy: 0.6599\n",
            "Epoch 5/25\n",
            "1250/1250 [==============================] - 47s 38ms/step - loss: 0.8240 - accuracy: 0.7102 - val_loss: 0.9883 - val_accuracy: 0.6654\n",
            "Epoch 6/25\n",
            "1250/1250 [==============================] - 69s 56ms/step - loss: 0.7418 - accuracy: 0.7413 - val_loss: 1.0176 - val_accuracy: 0.6583\n",
            "Epoch 7/25\n",
            "1250/1250 [==============================] - 73s 58ms/step - loss: 0.6539 - accuracy: 0.7739 - val_loss: 0.9540 - val_accuracy: 0.6797\n",
            "Epoch 8/25\n",
            "1250/1250 [==============================] - 70s 56ms/step - loss: 0.5754 - accuracy: 0.8014 - val_loss: 1.0089 - val_accuracy: 0.6770\n",
            "Epoch 9/25\n",
            "1250/1250 [==============================] - 39s 32ms/step - loss: 0.5003 - accuracy: 0.8269 - val_loss: 1.0495 - val_accuracy: 0.6785\n"
          ]
        }
      ],
      "source": [
        "history = model.fit(x_train,y_cat_train,epochs=25,validation_data=(x_val,y_val_cat),callbacks=[early_stop])"
      ]
    },
    {
      "cell_type": "code",
      "execution_count": null,
      "metadata": {
        "id": "Vg3TMr35Dmj0",
        "outputId": "e6073484-5258-4f83-f1d0-fd33ff7b2b37"
      },
      "outputs": [
        {
          "data": {
            "text/plain": [
              "dict_keys(['loss', 'accuracy', 'val_loss', 'val_accuracy'])"
            ]
          },
          "execution_count": 34,
          "metadata": {},
          "output_type": "execute_result"
        }
      ],
      "source": [
        "model.history.history.keys()"
      ]
    },
    {
      "cell_type": "code",
      "execution_count": null,
      "metadata": {
        "id": "5tt4MPGGDmj2"
      },
      "outputs": [],
      "source": [
        "metrics = pd.DataFrame(model.history.history)"
      ]
    },
    {
      "cell_type": "code",
      "execution_count": null,
      "metadata": {
        "id": "Fm0OKvNGDmj2",
        "outputId": "4bdd9fdb-0ad8-496c-ecc1-89d19be6714d"
      },
      "outputs": [
        {
          "data": {
            "text/html": [
              "<div>\n",
              "<style>\n",
              "    .dataframe thead tr:only-child th {\n",
              "        text-align: right;\n",
              "    }\n",
              "\n",
              "    .dataframe thead th {\n",
              "        text-align: left;\n",
              "    }\n",
              "\n",
              "    .dataframe tbody tr th {\n",
              "        vertical-align: top;\n",
              "    }\n",
              "</style>\n",
              "<table border=\"1\" class=\"dataframe\">\n",
              "  <thead>\n",
              "    <tr style=\"text-align: right;\">\n",
              "      <th></th>\n",
              "      <th>accuracy</th>\n",
              "      <th>loss</th>\n",
              "      <th>val_accuracy</th>\n",
              "      <th>val_loss</th>\n",
              "    </tr>\n",
              "  </thead>\n",
              "  <tbody>\n",
              "    <tr>\n",
              "      <th>0</th>\n",
              "      <td>0.443975</td>\n",
              "      <td>1.536754</td>\n",
              "      <td>0.5376</td>\n",
              "      <td>1.279800</td>\n",
              "    </tr>\n",
              "    <tr>\n",
              "      <th>1</th>\n",
              "      <td>0.575075</td>\n",
              "      <td>1.199655</td>\n",
              "      <td>0.6018</td>\n",
              "      <td>1.135980</td>\n",
              "    </tr>\n",
              "    <tr>\n",
              "      <th>2</th>\n",
              "      <td>0.634150</td>\n",
              "      <td>1.051031</td>\n",
              "      <td>0.6311</td>\n",
              "      <td>1.052739</td>\n",
              "    </tr>\n",
              "    <tr>\n",
              "      <th>3</th>\n",
              "      <td>0.673350</td>\n",
              "      <td>0.935059</td>\n",
              "      <td>0.6599</td>\n",
              "      <td>0.989369</td>\n",
              "    </tr>\n",
              "    <tr>\n",
              "      <th>4</th>\n",
              "      <td>0.710600</td>\n",
              "      <td>0.828836</td>\n",
              "      <td>0.6654</td>\n",
              "      <td>0.988293</td>\n",
              "    </tr>\n",
              "    <tr>\n",
              "      <th>5</th>\n",
              "      <td>0.739175</td>\n",
              "      <td>0.747640</td>\n",
              "      <td>0.6583</td>\n",
              "      <td>1.017581</td>\n",
              "    </tr>\n",
              "    <tr>\n",
              "      <th>6</th>\n",
              "      <td>0.767025</td>\n",
              "      <td>0.668431</td>\n",
              "      <td>0.6797</td>\n",
              "      <td>0.953991</td>\n",
              "    </tr>\n",
              "    <tr>\n",
              "      <th>7</th>\n",
              "      <td>0.794350</td>\n",
              "      <td>0.592010</td>\n",
              "      <td>0.6770</td>\n",
              "      <td>1.008880</td>\n",
              "    </tr>\n",
              "    <tr>\n",
              "      <th>8</th>\n",
              "      <td>0.817150</td>\n",
              "      <td>0.520959</td>\n",
              "      <td>0.6785</td>\n",
              "      <td>1.049524</td>\n",
              "    </tr>\n",
              "  </tbody>\n",
              "</table>\n",
              "</div>"
            ],
            "text/plain": [
              "   accuracy      loss  val_accuracy  val_loss\n",
              "0  0.443975  1.536754        0.5376  1.279800\n",
              "1  0.575075  1.199655        0.6018  1.135980\n",
              "2  0.634150  1.051031        0.6311  1.052739\n",
              "3  0.673350  0.935059        0.6599  0.989369\n",
              "4  0.710600  0.828836        0.6654  0.988293\n",
              "5  0.739175  0.747640        0.6583  1.017581\n",
              "6  0.767025  0.668431        0.6797  0.953991\n",
              "7  0.794350  0.592010        0.6770  1.008880\n",
              "8  0.817150  0.520959        0.6785  1.049524"
            ]
          },
          "execution_count": 36,
          "metadata": {},
          "output_type": "execute_result"
        }
      ],
      "source": [
        "metrics"
      ]
    },
    {
      "cell_type": "code",
      "execution_count": null,
      "metadata": {
        "id": "wgVpAkkLDmj3",
        "outputId": "636b8900-4a6c-4724-b392-bad4906faad4"
      },
      "outputs": [
        {
          "data": {
            "image/png": "[encoded data removed]",
            "text/plain": [
              "<Figure size 432x288 with 1 Axes>"
            ]
          },
          "metadata": {
            "needs_background": "light"
          },
          "output_type": "display_data"
        }
      ],
      "source": [
        "metrics[['loss', 'val_loss']].plot()\n",
        "plt.title('Training Loss Vs Validation Loss', fontsize=16)\n",
        "plt.show()"
      ]
    },
    {
      "cell_type": "code",
      "execution_count": null,
      "metadata": {
        "id": "xsS7ROqLDmj3",
        "outputId": "874afcd7-59cf-4db4-b1ac-c4f1ac07c6d8"
      },
      "outputs": [
        {
          "data": {
            "image/png": "[encoded data removed]",
            "text/plain": [
              "<Figure size 432x288 with 1 Axes>"
            ]
          },
          "metadata": {
            "needs_background": "light"
          },
          "output_type": "display_data"
        }
      ],
      "source": [
        "metrics[['accuracy', 'val_accuracy']].plot()\n",
        "plt.title('Training Accuracy Vs Validation Accuracy', fontsize=16)\n",
        "plt.show()"
      ]
    },
    {
      "cell_type": "markdown",
      "metadata": {
        "id": "cqQmhYp_Dmj4"
      },
      "source": [
        "## Validating on Test Data"
      ]
    },
    {
      "cell_type": "code",
      "execution_count": null,
      "metadata": {
        "id": "gX8zIvBIDmj4",
        "outputId": "b135ddac-d85a-47f8-ec80-6009f35d85a6"
      },
      "outputs": [
        {
          "name": "stdout",
          "output_type": "stream",
          "text": [
            "313/313 [==============================] - 2s 7ms/step - loss: 1.0768 - accuracy: 0.6703\n"
          ]
        },
        {
          "data": {
            "text/plain": [
              "[1.0768086910247803, 0.6703000068664551]"
            ]
          },
          "execution_count": 39,
          "metadata": {},
          "output_type": "execute_result"
        }
      ],
      "source": [
        "model.evaluate(x_test,y_cat_test)"
      ]
    },
    {
      "cell_type": "markdown",
      "metadata": {
        "id": "9X9FjfajDmj5"
      },
      "source": [
        "## Classification Report and Confusion Matrix"
      ]
    },
    {
      "cell_type": "code",
      "execution_count": null,
      "metadata": {
        "id": "77a4c8K4Dmj5"
      },
      "outputs": [],
      "source": [
        "from sklearn.metrics import classification_report, confusion_matrix"
      ]
    },
    {
      "cell_type": "code",
      "execution_count": null,
      "metadata": {
        "id": "hVGXuVSPDmj6",
        "outputId": "ce05b458-775f-4c65-dcd2-79baf377831f"
      },
      "outputs": [
        {
          "ename": "NameError",
          "evalue": "name 'np' is not defined",
          "output_type": "error",
          "traceback": [
            "\u001b[0;31m---------------------------------------------------------------------------\u001b[0m",
            "\u001b[0;31mNameError\u001b[0m                                 Traceback (most recent call last)",
            "\u001b[0;32m<ipython-input-5-22b748ca4dab>\u001b[0m in \u001b[0;36m<module>\u001b[0;34m\u001b[0m\n\u001b[1;32m      1\u001b[0m \u001b[0;31m#predictions = model.predict_classes(x_test)\u001b[0m\u001b[0;34m\u001b[0m\u001b[0;34m\u001b[0m\u001b[0m\n\u001b[0;32m----> 2\u001b[0;31m \u001b[0mpredictions\u001b[0m \u001b[0;34m=\u001b[0m \u001b[0mnp\u001b[0m\u001b[0;34m.\u001b[0m\u001b[0margmax\u001b[0m\u001b[0;34m(\u001b[0m\u001b[0mmodel\u001b[0m\u001b[0;34m.\u001b[0m\u001b[0mpredict\u001b[0m\u001b[0;34m(\u001b[0m\u001b[0mx_test\u001b[0m\u001b[0;34m)\u001b[0m\u001b[0;34m,\u001b[0m \u001b[0maxis\u001b[0m\u001b[0;34m=\u001b[0m\u001b[0;34m-\u001b[0m\u001b[0;36m1\u001b[0m\u001b[0;34m)\u001b[0m\u001b[0;34m\u001b[0m\u001b[0;34m\u001b[0m\u001b[0m\n\u001b[0m",
            "\u001b[0;31mNameError\u001b[0m: name 'np' is not defined"
          ]
        }
      ],
      "source": [
        "#predictions = model.predict_classes(x_test)\n",
        "predictions = np.argmax(model.predict(x_test), axis=-1)"
      ]
    },
    {
      "cell_type": "code",
      "execution_count": null,
      "metadata": {
        "id": "30-V_WVwDmj6",
        "outputId": "a762605e-e131-4341-ca62-e42011d2bfd1"
      },
      "outputs": [
        {
          "name": "stdout",
          "output_type": "stream",
          "text": [
            "              precision    recall  f1-score   support\n",
            "\n",
            "           0       0.68      0.73      0.71      1000\n",
            "           1       0.79      0.78      0.79      1000\n",
            "           2       0.53      0.61      0.57      1000\n",
            "           3       0.47      0.53      0.49      1000\n",
            "           4       0.64      0.58      0.61      1000\n",
            "           5       0.63      0.48      0.54      1000\n",
            "           6       0.77      0.73      0.75      1000\n",
            "           7       0.67      0.78      0.72      1000\n",
            "           8       0.75      0.80      0.77      1000\n",
            "           9       0.84      0.68      0.75      1000\n",
            "\n",
            "    accuracy                           0.67     10000\n",
            "   macro avg       0.68      0.67      0.67     10000\n",
            "weighted avg       0.68      0.67      0.67     10000\n",
            "\n"
          ]
        }
      ],
      "source": [
        "print(classification_report(y_test,predictions))"
      ]
    },
    {
      "cell_type": "code",
      "execution_count": null,
      "metadata": {
        "id": "hqznw-ueDmj6",
        "outputId": "c061f74e-9bcf-4c40-9d7a-64fb7df2f42e"
      },
      "outputs": [
        {
          "data": {
            "text/plain": [
              "array([[731,  22,  81,  12,  23,   5,   7,  13,  89,  17],\n",
              "       [ 44, 781,  23,  17,   5,   4,  11,   9,  44,  62],\n",
              "       [ 64,   6, 608,  82,  70,  47,  56,  48,  16,   3],\n",
              "       [ 27,  15,  91, 528,  70, 119,  58,  57,  19,  16],\n",
              "       [ 23,   6, 107,  72, 583,  34,  43, 115,  16,   1],\n",
              "       [ 18,   7, 102, 239,  38, 479,  21,  79,  12,   5],\n",
              "       [  5,   9,  62,  88,  52,  16, 735,  17,  12,   4],\n",
              "       [ 20,   3,  33,  51,  52,  34,   8, 784,   6,   9],\n",
              "       [ 84,  34,  19,  16,  13,   7,   9,   7, 796,  15],\n",
              "       [ 55, 100,  22,  29,   4,  17,  10,  37,  48, 678]])"
            ]
          },
          "execution_count": 43,
          "metadata": {},
          "output_type": "execute_result"
        }
      ],
      "source": [
        "confusion_matrix(y_test,predictions)"
      ]
    },
    {
      "cell_type": "markdown",
      "metadata": {
        "id": "el8PCjfhDmj7"
      },
      "source": [
        "# Predicting on single image"
      ]
    },
    {
      "cell_type": "code",
      "execution_count": null,
      "metadata": {
        "id": "Q0m99pcsDmj7",
        "outputId": "d725aca6-cf1b-4303-cdf9-b41ee1803c50"
      },
      "outputs": [
        {
          "data": {
            "text/plain": [
              "<matplotlib.image.AxesImage at 0x14d274c18>"
            ]
          },
          "execution_count": 44,
          "metadata": {},
          "output_type": "execute_result"
        },
        {
          "data": {
            "image/png": "[encoded data removed]",
            "text/plain": [
              "<Figure size 432x288 with 1 Axes>"
            ]
          },
          "metadata": {
            "needs_background": "light"
          },
          "output_type": "display_data"
        }
      ],
      "source": [
        "plt.imshow(x_test[16])"
      ]
    },
    {
      "cell_type": "code",
      "execution_count": null,
      "metadata": {
        "id": "rJ_PanKDDmj8"
      },
      "outputs": [],
      "source": [
        "my_image = x_test[16]"
      ]
    },
    {
      "cell_type": "code",
      "execution_count": null,
      "metadata": {
        "id": "UUt0phHPDmj8",
        "outputId": "d2341b42-24ac-4405-ca0d-eb235846aa25"
      },
      "outputs": [
        {
          "data": {
            "text/plain": [
              "array([5])"
            ]
          },
          "execution_count": 46,
          "metadata": {},
          "output_type": "execute_result"
        }
      ],
      "source": [
        "# SHAPE --> (num_images,width,height,color_channels)\n",
        "model.predict_classes(my_image.reshape(1,32,32,3))"
      ]
    },
    {
      "cell_type": "code",
      "execution_count": null,
      "metadata": {
        "id": "J-qOn7RaDmj8",
        "outputId": "e978c70a-f0c2-4ee3-e65d-7ebf585842fb"
      },
      "outputs": [
        {
          "data": {
            "text/plain": [
              "'dog'"
            ]
          },
          "execution_count": 47,
          "metadata": {},
          "output_type": "execute_result"
        }
      ],
      "source": [
        "LABEL_NAMES[y_test[16][0]]"
      ]
    },
    {
      "cell_type": "code",
      "execution_count": null,
      "metadata": {
        "id": "XUekp9c8Dmj9"
      },
      "outputs": [],
      "source": []
    }
  ],
  "metadata": {
    "kernelspec": {
      "display_name": "Python 3",
      "language": "python",
      "name": "python3"
    },
    "language_info": {
      "codemirror_mode": {
        "name": "ipython",
        "version": 3
      },
      "file_extension": ".py",
      "mimetype": "text/x-python",
      "name": "python",
      "nbconvert_exporter": "python",
      "pygments_lexer": "ipython3",
      "version": "3.10.2"
    },
    "colab": {
      "provenance": [],
      "include_colab_link": true
    }
  },
  "nbformat": 4,
  "nbformat_minor": 0
}